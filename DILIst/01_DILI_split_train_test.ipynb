{
 "cells": [
  {
   "cell_type": "code",
   "execution_count": 1,
   "id": "ddb9a43f-95ff-4e55-aeaa-01919654ff58",
   "metadata": {},
   "outputs": [],
   "source": [
    "import pandas as pd"
   ]
  },
  {
   "cell_type": "code",
   "execution_count": 3,
   "id": "1a32ea16-f12b-4b44-8069-31c1b2e6f37e",
   "metadata": {},
   "outputs": [
    {
     "data": {
      "text/html": [
       "<div>\n",
       "<style scoped>\n",
       "    .dataframe tbody tr th:only-of-type {\n",
       "        vertical-align: middle;\n",
       "    }\n",
       "\n",
       "    .dataframe tbody tr th {\n",
       "        vertical-align: top;\n",
       "    }\n",
       "\n",
       "    .dataframe thead th {\n",
       "        text-align: right;\n",
       "    }\n",
       "</style>\n",
       "<table border=\"1\" class=\"dataframe\">\n",
       "  <thead>\n",
       "    <tr style=\"text-align: right;\">\n",
       "      <th></th>\n",
       "      <th>Unnamed: 0</th>\n",
       "      <th>Input_SMILES</th>\n",
       "      <th>Input_Standardised_SMILES</th>\n",
       "      <th>Output</th>\n",
       "      <th>Label</th>\n",
       "      <th>protonated_Output</th>\n",
       "      <th>InchiKey</th>\n",
       "    </tr>\n",
       "  </thead>\n",
       "  <tbody>\n",
       "    <tr>\n",
       "      <th>0</th>\n",
       "      <td>0</td>\n",
       "      <td>CCN(CC)c1cc(C)nc2ncnn12</td>\n",
       "      <td>CCN(CC)c1cc(C)nc2ncnn12</td>\n",
       "      <td>CCN(CC)c1cc(C)nc2ncnn12</td>\n",
       "      <td>1</td>\n",
       "      <td>CCN(CC)c1cc(C)nc2ncnn12</td>\n",
       "      <td>GSNOZLZNQMLSKJ</td>\n",
       "    </tr>\n",
       "    <tr>\n",
       "      <th>1</th>\n",
       "      <td>0</td>\n",
       "      <td>CCN(CC)c1cc(C)nc2ncnn12</td>\n",
       "      <td>CCN(CC)c1cc(C)nc2ncnn12</td>\n",
       "      <td>CCN(CC)c1cc(CO)nc2ncnn12</td>\n",
       "      <td>1</td>\n",
       "      <td>CCN(CC)c1cc(CO)nc2ncnn12</td>\n",
       "      <td>SZJJPTZBJJVMTL</td>\n",
       "    </tr>\n",
       "    <tr>\n",
       "      <th>2</th>\n",
       "      <td>0</td>\n",
       "      <td>CCN(CC)c1cc(C)nc2ncnn12</td>\n",
       "      <td>CCN(CC)c1cc(C)nc2ncnn12</td>\n",
       "      <td>CCN(CC)c1cc(C)nc2nc(O)[nH]c12</td>\n",
       "      <td>1</td>\n",
       "      <td>CCN(CC)c1cc(C)nc2nc([O-])[n-]c12</td>\n",
       "      <td>XAJUACNVEHWOFJ</td>\n",
       "    </tr>\n",
       "    <tr>\n",
       "      <th>3</th>\n",
       "      <td>0</td>\n",
       "      <td>CCN(CC)c1cc(C)nc2ncnn12</td>\n",
       "      <td>CCN(CC)c1cc(C)nc2ncnn12</td>\n",
       "      <td>Cc1cc(N)n2ncnc2n1</td>\n",
       "      <td>1</td>\n",
       "      <td>Cc1cc(N)n2ncnc2n1</td>\n",
       "      <td>WCHZTJMYPRSTPF</td>\n",
       "    </tr>\n",
       "    <tr>\n",
       "      <th>4</th>\n",
       "      <td>0</td>\n",
       "      <td>CCN(CC)c1cc(C)nc2ncnn12</td>\n",
       "      <td>CCN(CC)c1cc(C)nc2ncnn12</td>\n",
       "      <td>CCN(CCO)c1cc(C)nc2ncnn12</td>\n",
       "      <td>1</td>\n",
       "      <td>CCN(CCO)c1cc(C)nc2ncnn12</td>\n",
       "      <td>ICMRDUVKIVZZMD</td>\n",
       "    </tr>\n",
       "    <tr>\n",
       "      <th>...</th>\n",
       "      <td>...</td>\n",
       "      <td>...</td>\n",
       "      <td>...</td>\n",
       "      <td>...</td>\n",
       "      <td>...</td>\n",
       "      <td>...</td>\n",
       "      <td>...</td>\n",
       "    </tr>\n",
       "    <tr>\n",
       "      <th>13157</th>\n",
       "      <td>1274</td>\n",
       "      <td>CN1CCC[C@@H]1CCO[C@](C)(c1ccccc1)c1ccc(Cl)cc1</td>\n",
       "      <td>CN1CCCC1CCOC(C)(c1ccccc1)c1ccc(Cl)cc1</td>\n",
       "      <td>CC(O)(c1ccccc1)c1ccc(Cl)cc1</td>\n",
       "      <td>0</td>\n",
       "      <td>CC(O)(c1ccccc1)c1ccc(Cl)cc1</td>\n",
       "      <td>MHJLXHJZQCHSIT</td>\n",
       "    </tr>\n",
       "    <tr>\n",
       "      <th>13158</th>\n",
       "      <td>1274</td>\n",
       "      <td>CN1CCC[C@@H]1CCO[C@](C)(c1ccccc1)c1ccc(Cl)cc1</td>\n",
       "      <td>CN1CCCC1CCOC(C)(c1ccccc1)c1ccc(Cl)cc1</td>\n",
       "      <td>CN1C(=O)CCC1CCOC(C)(c1ccccc1)c1ccc(Cl)cc1</td>\n",
       "      <td>0</td>\n",
       "      <td>C[NH+]1C(=O)CCC1CCOC(C)(c1ccccc1)c1ccc(Cl)cc1</td>\n",
       "      <td>YNINKODZZUSWOR</td>\n",
       "    </tr>\n",
       "    <tr>\n",
       "      <th>13159</th>\n",
       "      <td>1274</td>\n",
       "      <td>CN1CCC[C@@H]1CCO[C@](C)(c1ccccc1)c1ccc(Cl)cc1</td>\n",
       "      <td>CN1CCCC1CCOC(C)(c1ccccc1)c1ccc(Cl)cc1</td>\n",
       "      <td>CN1C(O)CCC1CCOC(C)(c1ccccc1)c1ccc(Cl)cc1</td>\n",
       "      <td>0</td>\n",
       "      <td>C[NH+]1C(O)CCC1CCOC(C)(c1ccccc1)c1ccc(Cl)cc1</td>\n",
       "      <td>CXSXOAHJOVSEHG</td>\n",
       "    </tr>\n",
       "    <tr>\n",
       "      <th>13160</th>\n",
       "      <td>1274</td>\n",
       "      <td>CN1CCC[C@@H]1CCO[C@](C)(c1ccccc1)c1ccc(Cl)cc1</td>\n",
       "      <td>CN1CCCC1CCOC(C)(c1ccccc1)c1ccc(Cl)cc1</td>\n",
       "      <td>CC(OCCC1CCCN1)(c1ccc(O)cc1)c1ccc(Cl)cc1</td>\n",
       "      <td>0</td>\n",
       "      <td>CC(OCCC1CCC[NH2+]1)(c1ccc([O-])cc1)c1ccc(Cl)cc1</td>\n",
       "      <td>VUXJQESXGDMOAQ</td>\n",
       "    </tr>\n",
       "    <tr>\n",
       "      <th>13161</th>\n",
       "      <td>1274</td>\n",
       "      <td>CN1CCC[C@@H]1CCO[C@](C)(c1ccccc1)c1ccc(Cl)cc1</td>\n",
       "      <td>CN1CCCC1CCOC(C)(c1ccccc1)c1ccc(Cl)cc1</td>\n",
       "      <td>CC(OCCC1CCC[N+]1(C)[O-])(c1ccccc1)c1ccc(Cl)cc1</td>\n",
       "      <td>0</td>\n",
       "      <td>CC(OCCC1CCC[N+]1(C)O)(c1ccccc1)c1ccc(Cl)cc1</td>\n",
       "      <td>PRZFEDGPQDFPLM</td>\n",
       "    </tr>\n",
       "  </tbody>\n",
       "</table>\n",
       "<p>13162 rows × 7 columns</p>\n",
       "</div>"
      ],
      "text/plain": [
       "       Unnamed: 0                                   Input_SMILES  \\\n",
       "0               0                        CCN(CC)c1cc(C)nc2ncnn12   \n",
       "1               0                        CCN(CC)c1cc(C)nc2ncnn12   \n",
       "2               0                        CCN(CC)c1cc(C)nc2ncnn12   \n",
       "3               0                        CCN(CC)c1cc(C)nc2ncnn12   \n",
       "4               0                        CCN(CC)c1cc(C)nc2ncnn12   \n",
       "...           ...                                            ...   \n",
       "13157        1274  CN1CCC[C@@H]1CCO[C@](C)(c1ccccc1)c1ccc(Cl)cc1   \n",
       "13158        1274  CN1CCC[C@@H]1CCO[C@](C)(c1ccccc1)c1ccc(Cl)cc1   \n",
       "13159        1274  CN1CCC[C@@H]1CCO[C@](C)(c1ccccc1)c1ccc(Cl)cc1   \n",
       "13160        1274  CN1CCC[C@@H]1CCO[C@](C)(c1ccccc1)c1ccc(Cl)cc1   \n",
       "13161        1274  CN1CCC[C@@H]1CCO[C@](C)(c1ccccc1)c1ccc(Cl)cc1   \n",
       "\n",
       "                   Input_Standardised_SMILES  \\\n",
       "0                    CCN(CC)c1cc(C)nc2ncnn12   \n",
       "1                    CCN(CC)c1cc(C)nc2ncnn12   \n",
       "2                    CCN(CC)c1cc(C)nc2ncnn12   \n",
       "3                    CCN(CC)c1cc(C)nc2ncnn12   \n",
       "4                    CCN(CC)c1cc(C)nc2ncnn12   \n",
       "...                                      ...   \n",
       "13157  CN1CCCC1CCOC(C)(c1ccccc1)c1ccc(Cl)cc1   \n",
       "13158  CN1CCCC1CCOC(C)(c1ccccc1)c1ccc(Cl)cc1   \n",
       "13159  CN1CCCC1CCOC(C)(c1ccccc1)c1ccc(Cl)cc1   \n",
       "13160  CN1CCCC1CCOC(C)(c1ccccc1)c1ccc(Cl)cc1   \n",
       "13161  CN1CCCC1CCOC(C)(c1ccccc1)c1ccc(Cl)cc1   \n",
       "\n",
       "                                               Output  Label  \\\n",
       "0                             CCN(CC)c1cc(C)nc2ncnn12      1   \n",
       "1                            CCN(CC)c1cc(CO)nc2ncnn12      1   \n",
       "2                       CCN(CC)c1cc(C)nc2nc(O)[nH]c12      1   \n",
       "3                                   Cc1cc(N)n2ncnc2n1      1   \n",
       "4                            CCN(CCO)c1cc(C)nc2ncnn12      1   \n",
       "...                                               ...    ...   \n",
       "13157                     CC(O)(c1ccccc1)c1ccc(Cl)cc1      0   \n",
       "13158       CN1C(=O)CCC1CCOC(C)(c1ccccc1)c1ccc(Cl)cc1      0   \n",
       "13159        CN1C(O)CCC1CCOC(C)(c1ccccc1)c1ccc(Cl)cc1      0   \n",
       "13160         CC(OCCC1CCCN1)(c1ccc(O)cc1)c1ccc(Cl)cc1      0   \n",
       "13161  CC(OCCC1CCC[N+]1(C)[O-])(c1ccccc1)c1ccc(Cl)cc1      0   \n",
       "\n",
       "                                     protonated_Output        InchiKey  \n",
       "0                              CCN(CC)c1cc(C)nc2ncnn12  GSNOZLZNQMLSKJ  \n",
       "1                             CCN(CC)c1cc(CO)nc2ncnn12  SZJJPTZBJJVMTL  \n",
       "2                     CCN(CC)c1cc(C)nc2nc([O-])[n-]c12  XAJUACNVEHWOFJ  \n",
       "3                                    Cc1cc(N)n2ncnc2n1  WCHZTJMYPRSTPF  \n",
       "4                             CCN(CCO)c1cc(C)nc2ncnn12  ICMRDUVKIVZZMD  \n",
       "...                                                ...             ...  \n",
       "13157                      CC(O)(c1ccccc1)c1ccc(Cl)cc1  MHJLXHJZQCHSIT  \n",
       "13158    C[NH+]1C(=O)CCC1CCOC(C)(c1ccccc1)c1ccc(Cl)cc1  YNINKODZZUSWOR  \n",
       "13159     C[NH+]1C(O)CCC1CCOC(C)(c1ccccc1)c1ccc(Cl)cc1  CXSXOAHJOVSEHG  \n",
       "13160  CC(OCCC1CCC[NH2+]1)(c1ccc([O-])cc1)c1ccc(Cl)cc1  VUXJQESXGDMOAQ  \n",
       "13161      CC(OCCC1CCC[N+]1(C)O)(c1ccccc1)c1ccc(Cl)cc1  PRZFEDGPQDFPLM  \n",
       "\n",
       "[13162 rows x 7 columns]"
      ]
     },
     "execution_count": 3,
     "metadata": {},
     "output_type": "execute_result"
    }
   ],
   "source": [
    "df = pd.read_csv(\"data/DILIst_processed.csv\")\n",
    "df"
   ]
  },
  {
   "cell_type": "code",
   "execution_count": 4,
   "id": "c6aa8b4e-66e5-411f-9b8b-7d920cd5c4a7",
   "metadata": {},
   "outputs": [
    {
     "data": {
      "text/html": [
       "<div>\n",
       "<style scoped>\n",
       "    .dataframe tbody tr th:only-of-type {\n",
       "        vertical-align: middle;\n",
       "    }\n",
       "\n",
       "    .dataframe tbody tr th {\n",
       "        vertical-align: top;\n",
       "    }\n",
       "\n",
       "    .dataframe thead th {\n",
       "        text-align: right;\n",
       "    }\n",
       "</style>\n",
       "<table border=\"1\" class=\"dataframe\">\n",
       "  <thead>\n",
       "    <tr style=\"text-align: right;\">\n",
       "      <th></th>\n",
       "      <th>protonated_Output</th>\n",
       "      <th>InchiKey</th>\n",
       "      <th>Label</th>\n",
       "    </tr>\n",
       "  </thead>\n",
       "  <tbody>\n",
       "    <tr>\n",
       "      <th>0</th>\n",
       "      <td>CCN(CC)c1cc(C)nc2ncnn12</td>\n",
       "      <td>GSNOZLZNQMLSKJ</td>\n",
       "      <td>1</td>\n",
       "    </tr>\n",
       "    <tr>\n",
       "      <th>1</th>\n",
       "      <td>CC[NH+](CC)CC(=O)Oc1ccc(NC(C)=O)cc1</td>\n",
       "      <td>QTGAJCQTLIRCFL</td>\n",
       "      <td>1</td>\n",
       "    </tr>\n",
       "    <tr>\n",
       "      <th>2</th>\n",
       "      <td>CC[NH+](CC)Cc1cc(N=c2cc[n-]c3cc(Cl)ccc23)ccc1[O-]</td>\n",
       "      <td>OVCDSSHSILBFBN</td>\n",
       "      <td>1</td>\n",
       "    </tr>\n",
       "    <tr>\n",
       "      <th>3</th>\n",
       "      <td>CC[NH+](CC)CCCC(C)N=c1cc[n-]c2cc(Cl)ccc12</td>\n",
       "      <td>WHTVZRBIWZFKQO</td>\n",
       "      <td>1</td>\n",
       "    </tr>\n",
       "    <tr>\n",
       "      <th>4</th>\n",
       "      <td>CC[NH+](CC)CCN1C(=O)CN=C(c2ccccc2F)c2cc(Cl)ccc21</td>\n",
       "      <td>SAADBVWGJQAEFS</td>\n",
       "      <td>1</td>\n",
       "    </tr>\n",
       "    <tr>\n",
       "      <th>...</th>\n",
       "      <td>...</td>\n",
       "      <td>...</td>\n",
       "      <td>...</td>\n",
       "    </tr>\n",
       "    <tr>\n",
       "      <th>1264</th>\n",
       "      <td>O=C(NC(CO)C(O)c1ccc([N+](=O)[O-])cc1)C(Cl)Cl</td>\n",
       "      <td>WIIZWVCIJKGZOK</td>\n",
       "      <td>0</td>\n",
       "    </tr>\n",
       "    <tr>\n",
       "      <th>1265</th>\n",
       "      <td>CC1OC(OC2C(O)CC(OC3C(O)CC(OC4CCC5(C)C(CCC6C5CC...</td>\n",
       "      <td>IJJIUSOIKBRXAK</td>\n",
       "      <td>0</td>\n",
       "    </tr>\n",
       "    <tr>\n",
       "      <th>1266</th>\n",
       "      <td>C=C1C(=CC=C2CCCC3(C)C2CCC3C(C)CCCC(C)(C)O)CC(O...</td>\n",
       "      <td>GMRQFYUYWCNGIN</td>\n",
       "      <td>0</td>\n",
       "    </tr>\n",
       "    <tr>\n",
       "      <th>1267</th>\n",
       "      <td>CCC(=O)NCCC1CCc2ccc3c(c21)CCO3</td>\n",
       "      <td>YLXDSYKOBKBWJQ</td>\n",
       "      <td>0</td>\n",
       "    </tr>\n",
       "    <tr>\n",
       "      <th>1268</th>\n",
       "      <td>C[NH+]1CCCC1CCOC(C)(c1ccccc1)c1ccc(Cl)cc1</td>\n",
       "      <td>YNNUSGIPVFPVBX</td>\n",
       "      <td>0</td>\n",
       "    </tr>\n",
       "  </tbody>\n",
       "</table>\n",
       "<p>1269 rows × 3 columns</p>\n",
       "</div>"
      ],
      "text/plain": [
       "                                      protonated_Output        InchiKey  Label\n",
       "0                               CCN(CC)c1cc(C)nc2ncnn12  GSNOZLZNQMLSKJ      1\n",
       "1                   CC[NH+](CC)CC(=O)Oc1ccc(NC(C)=O)cc1  QTGAJCQTLIRCFL      1\n",
       "2     CC[NH+](CC)Cc1cc(N=c2cc[n-]c3cc(Cl)ccc23)ccc1[O-]  OVCDSSHSILBFBN      1\n",
       "3             CC[NH+](CC)CCCC(C)N=c1cc[n-]c2cc(Cl)ccc12  WHTVZRBIWZFKQO      1\n",
       "4      CC[NH+](CC)CCN1C(=O)CN=C(c2ccccc2F)c2cc(Cl)ccc21  SAADBVWGJQAEFS      1\n",
       "...                                                 ...             ...    ...\n",
       "1264       O=C(NC(CO)C(O)c1ccc([N+](=O)[O-])cc1)C(Cl)Cl  WIIZWVCIJKGZOK      0\n",
       "1265  CC1OC(OC2C(O)CC(OC3C(O)CC(OC4CCC5(C)C(CCC6C5CC...  IJJIUSOIKBRXAK      0\n",
       "1266  C=C1C(=CC=C2CCCC3(C)C2CCC3C(C)CCCC(C)(C)O)CC(O...  GMRQFYUYWCNGIN      0\n",
       "1267                     CCC(=O)NCCC1CCc2ccc3c(c21)CCO3  YLXDSYKOBKBWJQ      0\n",
       "1268          C[NH+]1CCCC1CCOC(C)(c1ccccc1)c1ccc(Cl)cc1  YNNUSGIPVFPVBX      0\n",
       "\n",
       "[1269 rows x 3 columns]"
      ]
     },
     "execution_count": 4,
     "metadata": {},
     "output_type": "execute_result"
    }
   ],
   "source": [
    "df_labelled = df[df[\"Input_Standardised_SMILES\"]==df[\"Output\"]].reset_index(drop=True)\n",
    "df_labelled = df_labelled[[\"protonated_Output\", \"InchiKey\", \"Label\"]]\n",
    "df_labelled"
   ]
  },
  {
   "cell_type": "code",
   "execution_count": 16,
   "id": "58569194-3bb0-4809-bc1b-f74f280d69b8",
   "metadata": {},
   "outputs": [
    {
     "data": {
      "text/html": [
       "<div>\n",
       "<style scoped>\n",
       "    .dataframe tbody tr th:only-of-type {\n",
       "        vertical-align: middle;\n",
       "    }\n",
       "\n",
       "    .dataframe tbody tr th {\n",
       "        vertical-align: top;\n",
       "    }\n",
       "\n",
       "    .dataframe thead th {\n",
       "        text-align: right;\n",
       "    }\n",
       "</style>\n",
       "<table border=\"1\" class=\"dataframe\">\n",
       "  <thead>\n",
       "    <tr style=\"text-align: right;\">\n",
       "      <th></th>\n",
       "      <th>protonated_Output</th>\n",
       "      <th>InchiKey</th>\n",
       "      <th>Label</th>\n",
       "    </tr>\n",
       "  </thead>\n",
       "  <tbody>\n",
       "    <tr>\n",
       "      <th>0</th>\n",
       "      <td>CCN(CC)c1cc(C)nc2ncnn12</td>\n",
       "      <td>GSNOZLZNQMLSKJ</td>\n",
       "      <td>1</td>\n",
       "    </tr>\n",
       "    <tr>\n",
       "      <th>1</th>\n",
       "      <td>CCOC(=O)n1ccn(C)c1=S</td>\n",
       "      <td>CFOYWRHIYXMDOT</td>\n",
       "      <td>1</td>\n",
       "    </tr>\n",
       "    <tr>\n",
       "      <th>2</th>\n",
       "      <td>CCOC1OC(=O)CC1NC(=O)C1CCC[NH+]2C(=O)CCC(NC(=O)...</td>\n",
       "      <td>CXAGHAZMQSCAKJ</td>\n",
       "      <td>1</td>\n",
       "    </tr>\n",
       "    <tr>\n",
       "      <th>3</th>\n",
       "      <td>OC1(c2ccc(Cl)cc2)c2ccccc2C2=[NH+]CCN21</td>\n",
       "      <td>ZPXSCAKFGYXMGA</td>\n",
       "      <td>1</td>\n",
       "    </tr>\n",
       "    <tr>\n",
       "      <th>4</th>\n",
       "      <td>C[NH+](CC(=O)[NH+]1CCOCC1)Cc1c(Cl)cccc1NC(=O)c...</td>\n",
       "      <td>KSNNEUZOAFRTDS</td>\n",
       "      <td>1</td>\n",
       "    </tr>\n",
       "    <tr>\n",
       "      <th>...</th>\n",
       "      <td>...</td>\n",
       "      <td>...</td>\n",
       "      <td>...</td>\n",
       "    </tr>\n",
       "    <tr>\n",
       "      <th>1142</th>\n",
       "      <td>N=c1[n-]c(C(CCC(=O)[O-])C(=O)N=C2C(=O)[NH+]3C(...</td>\n",
       "      <td>LLLXKOHOTQDYHM</td>\n",
       "      <td>0</td>\n",
       "    </tr>\n",
       "    <tr>\n",
       "      <th>1143</th>\n",
       "      <td>N=c1[n-]c(=O)c2nc(CNc3ccc(C(=O)NC(CCC(=O)[O-])...</td>\n",
       "      <td>OVBPIULPVIDEAO</td>\n",
       "      <td>0</td>\n",
       "    </tr>\n",
       "    <tr>\n",
       "      <th>1144</th>\n",
       "      <td>NC(=[NH2+])NCC[NH+]1CCCCCCC1</td>\n",
       "      <td>ACGDKVXYNVEAGU</td>\n",
       "      <td>0</td>\n",
       "    </tr>\n",
       "    <tr>\n",
       "      <th>1145</th>\n",
       "      <td>[O-]c1ccc(C(O)C[NH2+]CCCCCCOCCCCc2ccccc2)cc1CO</td>\n",
       "      <td>GIIZNNXWQWCKIB</td>\n",
       "      <td>0</td>\n",
       "    </tr>\n",
       "    <tr>\n",
       "      <th>1146</th>\n",
       "      <td>CC(C)=CC[NH+]1CCC2(C)c3cc([O-])ccc3CC1C2C</td>\n",
       "      <td>VOKSWYLNZZRQPF</td>\n",
       "      <td>0</td>\n",
       "    </tr>\n",
       "  </tbody>\n",
       "</table>\n",
       "<p>1147 rows × 3 columns</p>\n",
       "</div>"
      ],
      "text/plain": [
       "                                      protonated_Output        InchiKey  Label\n",
       "0                               CCN(CC)c1cc(C)nc2ncnn12  GSNOZLZNQMLSKJ      1\n",
       "1                                  CCOC(=O)n1ccn(C)c1=S  CFOYWRHIYXMDOT      1\n",
       "2     CCOC1OC(=O)CC1NC(=O)C1CCC[NH+]2C(=O)CCC(NC(=O)...  CXAGHAZMQSCAKJ      1\n",
       "3                OC1(c2ccc(Cl)cc2)c2ccccc2C2=[NH+]CCN21  ZPXSCAKFGYXMGA      1\n",
       "4     C[NH+](CC(=O)[NH+]1CCOCC1)Cc1c(Cl)cccc1NC(=O)c...  KSNNEUZOAFRTDS      1\n",
       "...                                                 ...             ...    ...\n",
       "1142  N=c1[n-]c(C(CCC(=O)[O-])C(=O)N=C2C(=O)[NH+]3C(...  LLLXKOHOTQDYHM      0\n",
       "1143  N=c1[n-]c(=O)c2nc(CNc3ccc(C(=O)NC(CCC(=O)[O-])...  OVBPIULPVIDEAO      0\n",
       "1144                       NC(=[NH2+])NCC[NH+]1CCCCCCC1  ACGDKVXYNVEAGU      0\n",
       "1145     [O-]c1ccc(C(O)C[NH2+]CCCCCCOCCCCc2ccccc2)cc1CO  GIIZNNXWQWCKIB      0\n",
       "1146          CC(C)=CC[NH+]1CCC2(C)c3cc([O-])ccc3CC1C2C  VOKSWYLNZZRQPF      0\n",
       "\n",
       "[1147 rows x 3 columns]"
      ]
     },
     "execution_count": 16,
     "metadata": {},
     "output_type": "execute_result"
    }
   ],
   "source": [
    "#Drop duplicates, conservative approach to keep evidence of toxicity\n",
    "\n",
    "df_labelled = df_labelled.sort_values(by=[\"Label\"], ascending=False).drop_duplicates(subset=[\"InchiKey\"], keep=\"first\").reset_index(drop=True)\n",
    "df_labelled"
   ]
  },
  {
   "cell_type": "code",
   "execution_count": 15,
   "id": "3909af7f-402f-4752-8419-d3d344904c2a",
   "metadata": {},
   "outputs": [
    {
     "data": {
      "text/plain": [
       "1147"
      ]
     },
     "execution_count": 15,
     "metadata": {},
     "output_type": "execute_result"
    }
   ],
   "source": [
    "df_labelled.InchiKey.nunique()"
   ]
  },
  {
   "cell_type": "code",
   "execution_count": 17,
   "id": "ef6d3f85-61de-44e0-b8e4-3fa9575c8b95",
   "metadata": {},
   "outputs": [
    {
     "data": {
      "text/plain": [
       "Label\n",
       "1    739\n",
       "0    408\n",
       "Name: count, dtype: int64"
      ]
     },
     "execution_count": 17,
     "metadata": {},
     "output_type": "execute_result"
    }
   ],
   "source": [
    "df_labelled.Label.value_counts()"
   ]
  },
  {
   "cell_type": "code",
   "execution_count": 18,
   "id": "51dd9f89-fc76-45a2-8d92-f674d0858f82",
   "metadata": {},
   "outputs": [
    {
     "data": {
      "text/html": [
       "<div>\n",
       "<style scoped>\n",
       "    .dataframe tbody tr th:only-of-type {\n",
       "        vertical-align: middle;\n",
       "    }\n",
       "\n",
       "    .dataframe tbody tr th {\n",
       "        vertical-align: top;\n",
       "    }\n",
       "\n",
       "    .dataframe thead th {\n",
       "        text-align: right;\n",
       "    }\n",
       "</style>\n",
       "<table border=\"1\" class=\"dataframe\">\n",
       "  <thead>\n",
       "    <tr style=\"text-align: right;\">\n",
       "      <th></th>\n",
       "      <th>protonated_Output</th>\n",
       "      <th>InchiKey</th>\n",
       "      <th>Label</th>\n",
       "    </tr>\n",
       "  </thead>\n",
       "  <tbody>\n",
       "    <tr>\n",
       "      <th>0</th>\n",
       "      <td>CCN(CC)c1cc(CO)nc2ncnn12</td>\n",
       "      <td>SZJJPTZBJJVMTL</td>\n",
       "      <td>NaN</td>\n",
       "    </tr>\n",
       "    <tr>\n",
       "      <th>1</th>\n",
       "      <td>CCN(CC)c1cc(C)nc2nc([O-])[n-]c12</td>\n",
       "      <td>XAJUACNVEHWOFJ</td>\n",
       "      <td>NaN</td>\n",
       "    </tr>\n",
       "    <tr>\n",
       "      <th>2</th>\n",
       "      <td>Cc1cc(N)n2ncnc2n1</td>\n",
       "      <td>WCHZTJMYPRSTPF</td>\n",
       "      <td>NaN</td>\n",
       "    </tr>\n",
       "    <tr>\n",
       "      <th>3</th>\n",
       "      <td>CCN(CCO)c1cc(C)nc2ncnn12</td>\n",
       "      <td>ICMRDUVKIVZZMD</td>\n",
       "      <td>NaN</td>\n",
       "    </tr>\n",
       "    <tr>\n",
       "      <th>4</th>\n",
       "      <td>CCNc1cc(C)nc2ncnn12</td>\n",
       "      <td>JDYRAZLWDUVBMX</td>\n",
       "      <td>NaN</td>\n",
       "    </tr>\n",
       "    <tr>\n",
       "      <th>...</th>\n",
       "      <td>...</td>\n",
       "      <td>...</td>\n",
       "      <td>...</td>\n",
       "    </tr>\n",
       "    <tr>\n",
       "      <th>10219</th>\n",
       "      <td>N=c1cc(N2CCCCC2)[n-]c(=N)n1O[C@@H]1O[C@H](CO)[...</td>\n",
       "      <td>JSIFDEAPGYAUEU</td>\n",
       "      <td>NaN</td>\n",
       "    </tr>\n",
       "    <tr>\n",
       "      <th>10220</th>\n",
       "      <td>N=c1nc([O-])cc(N2CCC(O)CC2)[n-]1</td>\n",
       "      <td>DAOZHVLVEAVFRV</td>\n",
       "      <td>NaN</td>\n",
       "    </tr>\n",
       "    <tr>\n",
       "      <th>10221</th>\n",
       "      <td>N=c1cc(N2CCC(O)CC2)[n-]c(=N)n1[O-]</td>\n",
       "      <td>PSCRHPOOYXSDFG</td>\n",
       "      <td>NaN</td>\n",
       "    </tr>\n",
       "    <tr>\n",
       "      <th>10222</th>\n",
       "      <td>N=c1nc(N2CCCCC2)cc([O-])n1[O-]</td>\n",
       "      <td>BDOBGJUSTDCVPF</td>\n",
       "      <td>NaN</td>\n",
       "    </tr>\n",
       "    <tr>\n",
       "      <th>10223</th>\n",
       "      <td>Nc1nc(N2CCCC(O)C2)cc(=NO)[n-]1</td>\n",
       "      <td>NLWRGEBZOMWIPO</td>\n",
       "      <td>NaN</td>\n",
       "    </tr>\n",
       "  </tbody>\n",
       "</table>\n",
       "<p>10224 rows × 3 columns</p>\n",
       "</div>"
      ],
      "text/plain": [
       "                                       protonated_Output        InchiKey  \\\n",
       "0                               CCN(CC)c1cc(CO)nc2ncnn12  SZJJPTZBJJVMTL   \n",
       "1                       CCN(CC)c1cc(C)nc2nc([O-])[n-]c12  XAJUACNVEHWOFJ   \n",
       "2                                      Cc1cc(N)n2ncnc2n1  WCHZTJMYPRSTPF   \n",
       "3                               CCN(CCO)c1cc(C)nc2ncnn12  ICMRDUVKIVZZMD   \n",
       "4                                    CCNc1cc(C)nc2ncnn12  JDYRAZLWDUVBMX   \n",
       "...                                                  ...             ...   \n",
       "10219  N=c1cc(N2CCCCC2)[n-]c(=N)n1O[C@@H]1O[C@H](CO)[...  JSIFDEAPGYAUEU   \n",
       "10220                   N=c1nc([O-])cc(N2CCC(O)CC2)[n-]1  DAOZHVLVEAVFRV   \n",
       "10221                 N=c1cc(N2CCC(O)CC2)[n-]c(=N)n1[O-]  PSCRHPOOYXSDFG   \n",
       "10222                     N=c1nc(N2CCCCC2)cc([O-])n1[O-]  BDOBGJUSTDCVPF   \n",
       "10223                     Nc1nc(N2CCCC(O)C2)cc(=NO)[n-]1  NLWRGEBZOMWIPO   \n",
       "\n",
       "       Label  \n",
       "0        NaN  \n",
       "1        NaN  \n",
       "2        NaN  \n",
       "3        NaN  \n",
       "4        NaN  \n",
       "...      ...  \n",
       "10219    NaN  \n",
       "10220    NaN  \n",
       "10221    NaN  \n",
       "10222    NaN  \n",
       "10223    NaN  \n",
       "\n",
       "[10224 rows x 3 columns]"
      ]
     },
     "execution_count": 18,
     "metadata": {},
     "output_type": "execute_result"
    }
   ],
   "source": [
    "import numpy as np\n",
    "\n",
    "df_unlabelled = df[df[\"Input_Standardised_SMILES\"]!=df[\"Output\"]].reset_index(drop=True)\n",
    "df_unlabelled[\"Label\"] = np.NaN\n",
    "df_unlabelled = df_unlabelled[[\"protonated_Output\", \"InchiKey\", \"Label\"]]\n",
    "df_unlabelled = df_unlabelled.drop_duplicates(subset=[\"InchiKey\"], keep=\"first\").reset_index(drop=True)\n",
    "\n",
    "df_unlabelled"
   ]
  },
  {
   "cell_type": "code",
   "execution_count": 19,
   "id": "a18002d4-eecd-4cd0-b425-5e010eed69ac",
   "metadata": {},
   "outputs": [
    {
     "data": {
      "text/plain": [
       "10224"
      ]
     },
     "execution_count": 19,
     "metadata": {},
     "output_type": "execute_result"
    }
   ],
   "source": [
    "df_unlabelled.InchiKey.nunique()"
   ]
  },
  {
   "cell_type": "code",
   "execution_count": 20,
   "id": "489c88ac-7349-4a9b-8f83-d126a2c4768e",
   "metadata": {},
   "outputs": [
    {
     "data": {
      "text/html": [
       "<div>\n",
       "<style scoped>\n",
       "    .dataframe tbody tr th:only-of-type {\n",
       "        vertical-align: middle;\n",
       "    }\n",
       "\n",
       "    .dataframe tbody tr th {\n",
       "        vertical-align: top;\n",
       "    }\n",
       "\n",
       "    .dataframe thead th {\n",
       "        text-align: right;\n",
       "    }\n",
       "</style>\n",
       "<table border=\"1\" class=\"dataframe\">\n",
       "  <thead>\n",
       "    <tr style=\"text-align: right;\">\n",
       "      <th></th>\n",
       "      <th>protonated_Output</th>\n",
       "      <th>InchiKey</th>\n",
       "      <th>Label</th>\n",
       "    </tr>\n",
       "  </thead>\n",
       "  <tbody>\n",
       "    <tr>\n",
       "      <th>0</th>\n",
       "      <td>CCN(CC)c1cc(C)nc2ncnn12</td>\n",
       "      <td>GSNOZLZNQMLSKJ</td>\n",
       "      <td>1.0</td>\n",
       "    </tr>\n",
       "    <tr>\n",
       "      <th>1</th>\n",
       "      <td>CCOC(=O)n1ccn(C)c1=S</td>\n",
       "      <td>CFOYWRHIYXMDOT</td>\n",
       "      <td>1.0</td>\n",
       "    </tr>\n",
       "    <tr>\n",
       "      <th>2</th>\n",
       "      <td>CCOC1OC(=O)CC1NC(=O)C1CCC[NH+]2C(=O)CCC(NC(=O)...</td>\n",
       "      <td>CXAGHAZMQSCAKJ</td>\n",
       "      <td>1.0</td>\n",
       "    </tr>\n",
       "    <tr>\n",
       "      <th>3</th>\n",
       "      <td>OC1(c2ccc(Cl)cc2)c2ccccc2C2=[NH+]CCN21</td>\n",
       "      <td>ZPXSCAKFGYXMGA</td>\n",
       "      <td>1.0</td>\n",
       "    </tr>\n",
       "    <tr>\n",
       "      <th>4</th>\n",
       "      <td>C[NH+](CC(=O)[NH+]1CCOCC1)Cc1c(Cl)cccc1NC(=O)c...</td>\n",
       "      <td>KSNNEUZOAFRTDS</td>\n",
       "      <td>1.0</td>\n",
       "    </tr>\n",
       "    <tr>\n",
       "      <th>...</th>\n",
       "      <td>...</td>\n",
       "      <td>...</td>\n",
       "      <td>...</td>\n",
       "    </tr>\n",
       "    <tr>\n",
       "      <th>11366</th>\n",
       "      <td>N=c1cc(N2CCCCC2)[n-]c(=N)n1O[C@@H]1O[C@H](CO)[...</td>\n",
       "      <td>JSIFDEAPGYAUEU</td>\n",
       "      <td>NaN</td>\n",
       "    </tr>\n",
       "    <tr>\n",
       "      <th>11367</th>\n",
       "      <td>N=c1nc([O-])cc(N2CCC(O)CC2)[n-]1</td>\n",
       "      <td>DAOZHVLVEAVFRV</td>\n",
       "      <td>NaN</td>\n",
       "    </tr>\n",
       "    <tr>\n",
       "      <th>11368</th>\n",
       "      <td>N=c1cc(N2CCC(O)CC2)[n-]c(=N)n1[O-]</td>\n",
       "      <td>PSCRHPOOYXSDFG</td>\n",
       "      <td>NaN</td>\n",
       "    </tr>\n",
       "    <tr>\n",
       "      <th>11369</th>\n",
       "      <td>N=c1nc(N2CCCCC2)cc([O-])n1[O-]</td>\n",
       "      <td>BDOBGJUSTDCVPF</td>\n",
       "      <td>NaN</td>\n",
       "    </tr>\n",
       "    <tr>\n",
       "      <th>11370</th>\n",
       "      <td>Nc1nc(N2CCCC(O)C2)cc(=NO)[n-]1</td>\n",
       "      <td>NLWRGEBZOMWIPO</td>\n",
       "      <td>NaN</td>\n",
       "    </tr>\n",
       "  </tbody>\n",
       "</table>\n",
       "<p>11371 rows × 3 columns</p>\n",
       "</div>"
      ],
      "text/plain": [
       "                                       protonated_Output        InchiKey  \\\n",
       "0                                CCN(CC)c1cc(C)nc2ncnn12  GSNOZLZNQMLSKJ   \n",
       "1                                   CCOC(=O)n1ccn(C)c1=S  CFOYWRHIYXMDOT   \n",
       "2      CCOC1OC(=O)CC1NC(=O)C1CCC[NH+]2C(=O)CCC(NC(=O)...  CXAGHAZMQSCAKJ   \n",
       "3                 OC1(c2ccc(Cl)cc2)c2ccccc2C2=[NH+]CCN21  ZPXSCAKFGYXMGA   \n",
       "4      C[NH+](CC(=O)[NH+]1CCOCC1)Cc1c(Cl)cccc1NC(=O)c...  KSNNEUZOAFRTDS   \n",
       "...                                                  ...             ...   \n",
       "11366  N=c1cc(N2CCCCC2)[n-]c(=N)n1O[C@@H]1O[C@H](CO)[...  JSIFDEAPGYAUEU   \n",
       "11367                   N=c1nc([O-])cc(N2CCC(O)CC2)[n-]1  DAOZHVLVEAVFRV   \n",
       "11368                 N=c1cc(N2CCC(O)CC2)[n-]c(=N)n1[O-]  PSCRHPOOYXSDFG   \n",
       "11369                     N=c1nc(N2CCCCC2)cc([O-])n1[O-]  BDOBGJUSTDCVPF   \n",
       "11370                     Nc1nc(N2CCCC(O)C2)cc(=NO)[n-]1  NLWRGEBZOMWIPO   \n",
       "\n",
       "       Label  \n",
       "0        1.0  \n",
       "1        1.0  \n",
       "2        1.0  \n",
       "3        1.0  \n",
       "4        1.0  \n",
       "...      ...  \n",
       "11366    NaN  \n",
       "11367    NaN  \n",
       "11368    NaN  \n",
       "11369    NaN  \n",
       "11370    NaN  \n",
       "\n",
       "[11371 rows x 3 columns]"
      ]
     },
     "execution_count": 20,
     "metadata": {},
     "output_type": "execute_result"
    }
   ],
   "source": [
    "df = pd.concat([df_labelled, df_unlabelled]).reset_index(drop=True)\n",
    "df"
   ]
  },
  {
   "cell_type": "code",
   "execution_count": 21,
   "id": "083f3597-c1b4-4a5d-8f7e-5943875eed47",
   "metadata": {},
   "outputs": [],
   "source": [
    "from rdkit import Chem\n",
    "from rdkit.Chem import AllChem\n",
    "\n",
    "# Function to convert SMILES string to Morgan fingerprint\n",
    "def smiles_to_fingerprint(smiles, n_bits=2048):\n",
    "    mol = Chem.MolFromSmiles(smiles)\n",
    "    fp = AllChem.GetMorganFingerprintAsBitVect(mol, 2, nBits=n_bits)\n",
    "    return list(fp)\n",
    "\n",
    "# Apply the function to the 'smiles' column and create a new column for the fingerprint\n",
    "df['morgan_fingerprint'] = df['protonated_Output'].apply(smiles_to_fingerprint)"
   ]
  },
  {
   "cell_type": "code",
   "execution_count": 22,
   "id": "8150e12e-bc37-48b1-86bc-d3ad6cb33f0b",
   "metadata": {},
   "outputs": [],
   "source": [
    "df.to_csv(\"data/DILIst_features.csv\")"
   ]
  },
  {
   "cell_type": "code",
   "execution_count": 23,
   "id": "200341d4-3a94-4d71-b359-d0decbb395d5",
   "metadata": {},
   "outputs": [
    {
     "data": {
      "text/html": [
       "<div>\n",
       "<style scoped>\n",
       "    .dataframe tbody tr th:only-of-type {\n",
       "        vertical-align: middle;\n",
       "    }\n",
       "\n",
       "    .dataframe tbody tr th {\n",
       "        vertical-align: top;\n",
       "    }\n",
       "\n",
       "    .dataframe thead th {\n",
       "        text-align: right;\n",
       "    }\n",
       "</style>\n",
       "<table border=\"1\" class=\"dataframe\">\n",
       "  <thead>\n",
       "    <tr style=\"text-align: right;\">\n",
       "      <th></th>\n",
       "      <th>protonated_Output</th>\n",
       "      <th>InchiKey</th>\n",
       "      <th>Label</th>\n",
       "      <th>morgan_fingerprint</th>\n",
       "    </tr>\n",
       "  </thead>\n",
       "  <tbody>\n",
       "    <tr>\n",
       "      <th>0</th>\n",
       "      <td>CCN(CC)c1cc(C)nc2ncnn12</td>\n",
       "      <td>GSNOZLZNQMLSKJ</td>\n",
       "      <td>1.0</td>\n",
       "      <td>[0, 0, 0, 0, 1, 0, 0, 0, 0, 0, 0, 0, 0, 0, 0, ...</td>\n",
       "    </tr>\n",
       "    <tr>\n",
       "      <th>1</th>\n",
       "      <td>CCOC(=O)n1ccn(C)c1=S</td>\n",
       "      <td>CFOYWRHIYXMDOT</td>\n",
       "      <td>1.0</td>\n",
       "      <td>[0, 0, 0, 0, 0, 0, 0, 0, 0, 0, 0, 0, 0, 0, 0, ...</td>\n",
       "    </tr>\n",
       "    <tr>\n",
       "      <th>2</th>\n",
       "      <td>CCOC1OC(=O)CC1NC(=O)C1CCC[NH+]2C(=O)CCC(NC(=O)...</td>\n",
       "      <td>CXAGHAZMQSCAKJ</td>\n",
       "      <td>1.0</td>\n",
       "      <td>[0, 0, 0, 0, 0, 0, 0, 0, 0, 0, 0, 0, 0, 1, 0, ...</td>\n",
       "    </tr>\n",
       "    <tr>\n",
       "      <th>3</th>\n",
       "      <td>OC1(c2ccc(Cl)cc2)c2ccccc2C2=[NH+]CCN21</td>\n",
       "      <td>ZPXSCAKFGYXMGA</td>\n",
       "      <td>1.0</td>\n",
       "      <td>[0, 0, 0, 0, 0, 0, 0, 0, 0, 0, 0, 0, 0, 0, 0, ...</td>\n",
       "    </tr>\n",
       "    <tr>\n",
       "      <th>4</th>\n",
       "      <td>C[NH+](CC(=O)[NH+]1CCOCC1)Cc1c(Cl)cccc1NC(=O)c...</td>\n",
       "      <td>KSNNEUZOAFRTDS</td>\n",
       "      <td>1.0</td>\n",
       "      <td>[0, 0, 0, 0, 0, 0, 0, 0, 0, 0, 0, 0, 0, 0, 0, ...</td>\n",
       "    </tr>\n",
       "    <tr>\n",
       "      <th>...</th>\n",
       "      <td>...</td>\n",
       "      <td>...</td>\n",
       "      <td>...</td>\n",
       "      <td>...</td>\n",
       "    </tr>\n",
       "    <tr>\n",
       "      <th>11366</th>\n",
       "      <td>N=c1cc(N2CCCCC2)[n-]c(=N)n1O[C@@H]1O[C@H](CO)[...</td>\n",
       "      <td>JSIFDEAPGYAUEU</td>\n",
       "      <td>NaN</td>\n",
       "      <td>[0, 0, 1, 0, 0, 0, 0, 0, 0, 0, 0, 0, 0, 0, 0, ...</td>\n",
       "    </tr>\n",
       "    <tr>\n",
       "      <th>11367</th>\n",
       "      <td>N=c1nc([O-])cc(N2CCC(O)CC2)[n-]1</td>\n",
       "      <td>DAOZHVLVEAVFRV</td>\n",
       "      <td>NaN</td>\n",
       "      <td>[0, 0, 0, 0, 0, 0, 0, 0, 0, 0, 0, 0, 0, 0, 0, ...</td>\n",
       "    </tr>\n",
       "    <tr>\n",
       "      <th>11368</th>\n",
       "      <td>N=c1cc(N2CCC(O)CC2)[n-]c(=N)n1[O-]</td>\n",
       "      <td>PSCRHPOOYXSDFG</td>\n",
       "      <td>NaN</td>\n",
       "      <td>[0, 0, 0, 0, 0, 0, 0, 0, 0, 0, 0, 0, 0, 0, 0, ...</td>\n",
       "    </tr>\n",
       "    <tr>\n",
       "      <th>11369</th>\n",
       "      <td>N=c1nc(N2CCCCC2)cc([O-])n1[O-]</td>\n",
       "      <td>BDOBGJUSTDCVPF</td>\n",
       "      <td>NaN</td>\n",
       "      <td>[0, 0, 1, 0, 0, 0, 0, 0, 0, 0, 0, 0, 0, 0, 0, ...</td>\n",
       "    </tr>\n",
       "    <tr>\n",
       "      <th>11370</th>\n",
       "      <td>Nc1nc(N2CCCC(O)C2)cc(=NO)[n-]1</td>\n",
       "      <td>NLWRGEBZOMWIPO</td>\n",
       "      <td>NaN</td>\n",
       "      <td>[0, 0, 0, 0, 0, 0, 0, 0, 0, 0, 0, 0, 0, 0, 0, ...</td>\n",
       "    </tr>\n",
       "  </tbody>\n",
       "</table>\n",
       "<p>11371 rows × 4 columns</p>\n",
       "</div>"
      ],
      "text/plain": [
       "                                       protonated_Output        InchiKey  \\\n",
       "0                                CCN(CC)c1cc(C)nc2ncnn12  GSNOZLZNQMLSKJ   \n",
       "1                                   CCOC(=O)n1ccn(C)c1=S  CFOYWRHIYXMDOT   \n",
       "2      CCOC1OC(=O)CC1NC(=O)C1CCC[NH+]2C(=O)CCC(NC(=O)...  CXAGHAZMQSCAKJ   \n",
       "3                 OC1(c2ccc(Cl)cc2)c2ccccc2C2=[NH+]CCN21  ZPXSCAKFGYXMGA   \n",
       "4      C[NH+](CC(=O)[NH+]1CCOCC1)Cc1c(Cl)cccc1NC(=O)c...  KSNNEUZOAFRTDS   \n",
       "...                                                  ...             ...   \n",
       "11366  N=c1cc(N2CCCCC2)[n-]c(=N)n1O[C@@H]1O[C@H](CO)[...  JSIFDEAPGYAUEU   \n",
       "11367                   N=c1nc([O-])cc(N2CCC(O)CC2)[n-]1  DAOZHVLVEAVFRV   \n",
       "11368                 N=c1cc(N2CCC(O)CC2)[n-]c(=N)n1[O-]  PSCRHPOOYXSDFG   \n",
       "11369                     N=c1nc(N2CCCCC2)cc([O-])n1[O-]  BDOBGJUSTDCVPF   \n",
       "11370                     Nc1nc(N2CCCC(O)C2)cc(=NO)[n-]1  NLWRGEBZOMWIPO   \n",
       "\n",
       "       Label                                 morgan_fingerprint  \n",
       "0        1.0  [0, 0, 0, 0, 1, 0, 0, 0, 0, 0, 0, 0, 0, 0, 0, ...  \n",
       "1        1.0  [0, 0, 0, 0, 0, 0, 0, 0, 0, 0, 0, 0, 0, 0, 0, ...  \n",
       "2        1.0  [0, 0, 0, 0, 0, 0, 0, 0, 0, 0, 0, 0, 0, 1, 0, ...  \n",
       "3        1.0  [0, 0, 0, 0, 0, 0, 0, 0, 0, 0, 0, 0, 0, 0, 0, ...  \n",
       "4        1.0  [0, 0, 0, 0, 0, 0, 0, 0, 0, 0, 0, 0, 0, 0, 0, ...  \n",
       "...      ...                                                ...  \n",
       "11366    NaN  [0, 0, 1, 0, 0, 0, 0, 0, 0, 0, 0, 0, 0, 0, 0, ...  \n",
       "11367    NaN  [0, 0, 0, 0, 0, 0, 0, 0, 0, 0, 0, 0, 0, 0, 0, ...  \n",
       "11368    NaN  [0, 0, 0, 0, 0, 0, 0, 0, 0, 0, 0, 0, 0, 0, 0, ...  \n",
       "11369    NaN  [0, 0, 1, 0, 0, 0, 0, 0, 0, 0, 0, 0, 0, 0, 0, ...  \n",
       "11370    NaN  [0, 0, 0, 0, 0, 0, 0, 0, 0, 0, 0, 0, 0, 0, 0, ...  \n",
       "\n",
       "[11371 rows x 4 columns]"
      ]
     },
     "execution_count": 23,
     "metadata": {},
     "output_type": "execute_result"
    }
   ],
   "source": [
    "df"
   ]
  },
  {
   "cell_type": "code",
   "execution_count": 24,
   "id": "a91bbc70-9fa4-4b0d-945e-829346363757",
   "metadata": {},
   "outputs": [
    {
     "data": {
      "text/html": [
       "<div>\n",
       "<style scoped>\n",
       "    .dataframe tbody tr th:only-of-type {\n",
       "        vertical-align: middle;\n",
       "    }\n",
       "\n",
       "    .dataframe tbody tr th {\n",
       "        vertical-align: top;\n",
       "    }\n",
       "\n",
       "    .dataframe thead th {\n",
       "        text-align: right;\n",
       "    }\n",
       "</style>\n",
       "<table border=\"1\" class=\"dataframe\">\n",
       "  <thead>\n",
       "    <tr style=\"text-align: right;\">\n",
       "      <th></th>\n",
       "      <th>Unnamed: 0</th>\n",
       "      <th>protonated_Output</th>\n",
       "      <th>InchiKey</th>\n",
       "      <th>Label</th>\n",
       "      <th>morgan_fingerprint</th>\n",
       "    </tr>\n",
       "  </thead>\n",
       "  <tbody>\n",
       "    <tr>\n",
       "      <th>0</th>\n",
       "      <td>0</td>\n",
       "      <td>CCN(CC)c1cc(C)nc2ncnn12</td>\n",
       "      <td>GSNOZLZNQMLSKJ</td>\n",
       "      <td>1.0</td>\n",
       "      <td>[0, 0, 0, 0, 1, 0, 0, 0, 0, 0, 0, 0, 0, 0, 0, ...</td>\n",
       "    </tr>\n",
       "    <tr>\n",
       "      <th>1</th>\n",
       "      <td>1</td>\n",
       "      <td>CCOC(=O)n1ccn(C)c1=S</td>\n",
       "      <td>CFOYWRHIYXMDOT</td>\n",
       "      <td>1.0</td>\n",
       "      <td>[0, 0, 0, 0, 0, 0, 0, 0, 0, 0, 0, 0, 0, 0, 0, ...</td>\n",
       "    </tr>\n",
       "    <tr>\n",
       "      <th>2</th>\n",
       "      <td>2</td>\n",
       "      <td>CCOC1OC(=O)CC1NC(=O)C1CCC[NH+]2C(=O)CCC(NC(=O)...</td>\n",
       "      <td>CXAGHAZMQSCAKJ</td>\n",
       "      <td>1.0</td>\n",
       "      <td>[0, 0, 0, 0, 0, 0, 0, 0, 0, 0, 0, 0, 0, 1, 0, ...</td>\n",
       "    </tr>\n",
       "    <tr>\n",
       "      <th>3</th>\n",
       "      <td>3</td>\n",
       "      <td>OC1(c2ccc(Cl)cc2)c2ccccc2C2=[NH+]CCN21</td>\n",
       "      <td>ZPXSCAKFGYXMGA</td>\n",
       "      <td>1.0</td>\n",
       "      <td>[0, 0, 0, 0, 0, 0, 0, 0, 0, 0, 0, 0, 0, 0, 0, ...</td>\n",
       "    </tr>\n",
       "    <tr>\n",
       "      <th>4</th>\n",
       "      <td>4</td>\n",
       "      <td>C[NH+](CC(=O)[NH+]1CCOCC1)Cc1c(Cl)cccc1NC(=O)c...</td>\n",
       "      <td>KSNNEUZOAFRTDS</td>\n",
       "      <td>1.0</td>\n",
       "      <td>[0, 0, 0, 0, 0, 0, 0, 0, 0, 0, 0, 0, 0, 0, 0, ...</td>\n",
       "    </tr>\n",
       "    <tr>\n",
       "      <th>...</th>\n",
       "      <td>...</td>\n",
       "      <td>...</td>\n",
       "      <td>...</td>\n",
       "      <td>...</td>\n",
       "      <td>...</td>\n",
       "    </tr>\n",
       "    <tr>\n",
       "      <th>11366</th>\n",
       "      <td>11366</td>\n",
       "      <td>N=c1cc(N2CCCCC2)[n-]c(=N)n1O[C@@H]1O[C@H](CO)[...</td>\n",
       "      <td>JSIFDEAPGYAUEU</td>\n",
       "      <td>NaN</td>\n",
       "      <td>[0, 0, 1, 0, 0, 0, 0, 0, 0, 0, 0, 0, 0, 0, 0, ...</td>\n",
       "    </tr>\n",
       "    <tr>\n",
       "      <th>11367</th>\n",
       "      <td>11367</td>\n",
       "      <td>N=c1nc([O-])cc(N2CCC(O)CC2)[n-]1</td>\n",
       "      <td>DAOZHVLVEAVFRV</td>\n",
       "      <td>NaN</td>\n",
       "      <td>[0, 0, 0, 0, 0, 0, 0, 0, 0, 0, 0, 0, 0, 0, 0, ...</td>\n",
       "    </tr>\n",
       "    <tr>\n",
       "      <th>11368</th>\n",
       "      <td>11368</td>\n",
       "      <td>N=c1cc(N2CCC(O)CC2)[n-]c(=N)n1[O-]</td>\n",
       "      <td>PSCRHPOOYXSDFG</td>\n",
       "      <td>NaN</td>\n",
       "      <td>[0, 0, 0, 0, 0, 0, 0, 0, 0, 0, 0, 0, 0, 0, 0, ...</td>\n",
       "    </tr>\n",
       "    <tr>\n",
       "      <th>11369</th>\n",
       "      <td>11369</td>\n",
       "      <td>N=c1nc(N2CCCCC2)cc([O-])n1[O-]</td>\n",
       "      <td>BDOBGJUSTDCVPF</td>\n",
       "      <td>NaN</td>\n",
       "      <td>[0, 0, 1, 0, 0, 0, 0, 0, 0, 0, 0, 0, 0, 0, 0, ...</td>\n",
       "    </tr>\n",
       "    <tr>\n",
       "      <th>11370</th>\n",
       "      <td>11370</td>\n",
       "      <td>Nc1nc(N2CCCC(O)C2)cc(=NO)[n-]1</td>\n",
       "      <td>NLWRGEBZOMWIPO</td>\n",
       "      <td>NaN</td>\n",
       "      <td>[0, 0, 0, 0, 0, 0, 0, 0, 0, 0, 0, 0, 0, 0, 0, ...</td>\n",
       "    </tr>\n",
       "  </tbody>\n",
       "</table>\n",
       "<p>11371 rows × 5 columns</p>\n",
       "</div>"
      ],
      "text/plain": [
       "       Unnamed: 0                                  protonated_Output  \\\n",
       "0               0                            CCN(CC)c1cc(C)nc2ncnn12   \n",
       "1               1                               CCOC(=O)n1ccn(C)c1=S   \n",
       "2               2  CCOC1OC(=O)CC1NC(=O)C1CCC[NH+]2C(=O)CCC(NC(=O)...   \n",
       "3               3             OC1(c2ccc(Cl)cc2)c2ccccc2C2=[NH+]CCN21   \n",
       "4               4  C[NH+](CC(=O)[NH+]1CCOCC1)Cc1c(Cl)cccc1NC(=O)c...   \n",
       "...           ...                                                ...   \n",
       "11366       11366  N=c1cc(N2CCCCC2)[n-]c(=N)n1O[C@@H]1O[C@H](CO)[...   \n",
       "11367       11367                   N=c1nc([O-])cc(N2CCC(O)CC2)[n-]1   \n",
       "11368       11368                 N=c1cc(N2CCC(O)CC2)[n-]c(=N)n1[O-]   \n",
       "11369       11369                     N=c1nc(N2CCCCC2)cc([O-])n1[O-]   \n",
       "11370       11370                     Nc1nc(N2CCCC(O)C2)cc(=NO)[n-]1   \n",
       "\n",
       "             InchiKey  Label  \\\n",
       "0      GSNOZLZNQMLSKJ    1.0   \n",
       "1      CFOYWRHIYXMDOT    1.0   \n",
       "2      CXAGHAZMQSCAKJ    1.0   \n",
       "3      ZPXSCAKFGYXMGA    1.0   \n",
       "4      KSNNEUZOAFRTDS    1.0   \n",
       "...               ...    ...   \n",
       "11366  JSIFDEAPGYAUEU    NaN   \n",
       "11367  DAOZHVLVEAVFRV    NaN   \n",
       "11368  PSCRHPOOYXSDFG    NaN   \n",
       "11369  BDOBGJUSTDCVPF    NaN   \n",
       "11370  NLWRGEBZOMWIPO    NaN   \n",
       "\n",
       "                                      morgan_fingerprint  \n",
       "0      [0, 0, 0, 0, 1, 0, 0, 0, 0, 0, 0, 0, 0, 0, 0, ...  \n",
       "1      [0, 0, 0, 0, 0, 0, 0, 0, 0, 0, 0, 0, 0, 0, 0, ...  \n",
       "2      [0, 0, 0, 0, 0, 0, 0, 0, 0, 0, 0, 0, 0, 1, 0, ...  \n",
       "3      [0, 0, 0, 0, 0, 0, 0, 0, 0, 0, 0, 0, 0, 0, 0, ...  \n",
       "4      [0, 0, 0, 0, 0, 0, 0, 0, 0, 0, 0, 0, 0, 0, 0, ...  \n",
       "...                                                  ...  \n",
       "11366  [0, 0, 1, 0, 0, 0, 0, 0, 0, 0, 0, 0, 0, 0, 0, ...  \n",
       "11367  [0, 0, 0, 0, 0, 0, 0, 0, 0, 0, 0, 0, 0, 0, 0, ...  \n",
       "11368  [0, 0, 0, 0, 0, 0, 0, 0, 0, 0, 0, 0, 0, 0, 0, ...  \n",
       "11369  [0, 0, 1, 0, 0, 0, 0, 0, 0, 0, 0, 0, 0, 0, 0, ...  \n",
       "11370  [0, 0, 0, 0, 0, 0, 0, 0, 0, 0, 0, 0, 0, 0, 0, ...  \n",
       "\n",
       "[11371 rows x 5 columns]"
      ]
     },
     "execution_count": 24,
     "metadata": {},
     "output_type": "execute_result"
    }
   ],
   "source": [
    "import pandas as pd\n",
    "\n",
    "df = pd.read_csv(\"data/DILIst_features.csv\")\n",
    "df"
   ]
  },
  {
   "cell_type": "code",
   "execution_count": 25,
   "id": "61b3adb2-55c5-47bd-97dc-f182781f83d2",
   "metadata": {
    "scrolled": true,
    "tags": []
   },
   "outputs": [
    {
     "name": "stderr",
     "output_type": "stream",
     "text": [
      "  0%|          | 51/11371 [00:13<45:38,  4.13it/s] "
     ]
    },
    {
     "name": "stdout",
     "output_type": "stream",
     "text": [
      "/home/jupyter-seal@broadinstitut-41f01/.conda/envs/my-rdkit-env/lib/python3.10/site-packages/numpy/core/fromnumeric.py:86: RuntimeWarning: overflow encountered in reduce\n",
      "  return ufunc.reduce(obj, axis, dtype, out, **passkwargs)\n"
     ]
    },
    {
     "name": "stderr",
     "output_type": "stream",
     "text": [
      "  1%|          | 94/11371 [00:15<18:19, 10.25it/s]"
     ]
    },
    {
     "name": "stdout",
     "output_type": "stream",
     "text": [
      "/home/jupyter-seal@broadinstitut-41f01/.conda/envs/my-rdkit-env/lib/python3.10/site-packages/numpy/core/fromnumeric.py:86: RuntimeWarning: overflow encountered in reduce\n",
      "  return ufunc.reduce(obj, axis, dtype, out, **passkwargs)\n",
      "/home/jupyter-seal@broadinstitut-41f01/.conda/envs/my-rdkit-env/lib/python3.10/site-packages/numpy/core/fromnumeric.py:86: RuntimeWarning: overflow encountered in reduce\n",
      "  return ufunc.reduce(obj, axis, dtype, out, **passkwargs)\n"
     ]
    },
    {
     "name": "stderr",
     "output_type": "stream",
     "text": [
      "  2%|▏         | 230/11371 [00:16<03:04, 60.39it/s]"
     ]
    },
    {
     "name": "stdout",
     "output_type": "stream",
     "text": [
      "/home/jupyter-seal@broadinstitut-41f01/.conda/envs/my-rdkit-env/lib/python3.10/site-packages/numpy/core/fromnumeric.py:86: RuntimeWarning: overflow encountered in reduce\n",
      "  return ufunc.reduce(obj, axis, dtype, out, **passkwargs)\n"
     ]
    },
    {
     "name": "stderr",
     "output_type": "stream",
     "text": [
      "  2%|▏         | 263/11371 [00:22<21:09,  8.75it/s]"
     ]
    },
    {
     "name": "stdout",
     "output_type": "stream",
     "text": [
      "/home/jupyter-seal@broadinstitut-41f01/.conda/envs/my-rdkit-env/lib/python3.10/site-packages/numpy/core/fromnumeric.py:86: RuntimeWarning: overflow encountered in reduce\n",
      "  return ufunc.reduce(obj, axis, dtype, out, **passkwargs)\n"
     ]
    },
    {
     "name": "stderr",
     "output_type": "stream",
     "text": [
      "  3%|▎         | 355/11371 [00:27<13:54, 13.21it/s]"
     ]
    },
    {
     "name": "stdout",
     "output_type": "stream",
     "text": [
      "/home/jupyter-seal@broadinstitut-41f01/.conda/envs/my-rdkit-env/lib/python3.10/site-packages/numpy/core/fromnumeric.py:86: RuntimeWarning: overflow encountered in reduce\n",
      "  return ufunc.reduce(obj, axis, dtype, out, **passkwargs)\n"
     ]
    },
    {
     "name": "stderr",
     "output_type": "stream",
     "text": [
      "  3%|▎         | 379/11371 [00:28<09:16, 19.75it/s]"
     ]
    },
    {
     "name": "stdout",
     "output_type": "stream",
     "text": [
      "/home/jupyter-seal@broadinstitut-41f01/.conda/envs/my-rdkit-env/lib/python3.10/site-packages/numpy/core/fromnumeric.py:86: RuntimeWarning: overflow encountered in reduce\n",
      "  return ufunc.reduce(obj, axis, dtype, out, **passkwargs)\n"
     ]
    },
    {
     "name": "stderr",
     "output_type": "stream",
     "text": [
      "  4%|▍         | 436/11371 [00:34<13:07, 13.89it/s]"
     ]
    },
    {
     "name": "stdout",
     "output_type": "stream",
     "text": [
      "/home/jupyter-seal@broadinstitut-41f01/.conda/envs/my-rdkit-env/lib/python3.10/site-packages/numpy/core/fromnumeric.py:86: RuntimeWarning: overflow encountered in reduce\n",
      "  return ufunc.reduce(obj, axis, dtype, out, **passkwargs)\n"
     ]
    },
    {
     "name": "stderr",
     "output_type": "stream",
     "text": [
      "  4%|▍         | 473/11371 [00:34<07:43, 23.53it/s]"
     ]
    },
    {
     "name": "stdout",
     "output_type": "stream",
     "text": [
      "/home/jupyter-seal@broadinstitut-41f01/.conda/envs/my-rdkit-env/lib/python3.10/site-packages/numpy/core/fromnumeric.py:86: RuntimeWarning: overflow encountered in reduce\n",
      "  return ufunc.reduce(obj, axis, dtype, out, **passkwargs)\n"
     ]
    },
    {
     "name": "stderr",
     "output_type": "stream",
     "text": [
      "  4%|▍         | 509/11371 [00:39<14:27, 12.52it/s]"
     ]
    },
    {
     "name": "stdout",
     "output_type": "stream",
     "text": [
      "/home/jupyter-seal@broadinstitut-41f01/.conda/envs/my-rdkit-env/lib/python3.10/site-packages/numpy/core/fromnumeric.py:86: RuntimeWarning: overflow encountered in reduce\n",
      "  return ufunc.reduce(obj, axis, dtype, out, **passkwargs)\n",
      "/home/jupyter-seal@broadinstitut-41f01/.conda/envs/my-rdkit-env/lib/python3.10/site-packages/numpy/core/fromnumeric.py:86: RuntimeWarning: overflow encountered in reduce\n",
      "  return ufunc.reduce(obj, axis, dtype, out, **passkwargs)\n"
     ]
    },
    {
     "name": "stderr",
     "output_type": "stream",
     "text": [
      "  5%|▌         | 590/11371 [00:43<08:57, 20.07it/s]"
     ]
    },
    {
     "name": "stdout",
     "output_type": "stream",
     "text": [
      "/home/jupyter-seal@broadinstitut-41f01/.conda/envs/my-rdkit-env/lib/python3.10/site-packages/numpy/core/fromnumeric.py:86: RuntimeWarning: overflow encountered in reduce\n",
      "  return ufunc.reduce(obj, axis, dtype, out, **passkwargs)\n"
     ]
    },
    {
     "name": "stderr",
     "output_type": "stream",
     "text": [
      "  7%|▋         | 749/11371 [00:55<18:21,  9.64it/s]"
     ]
    },
    {
     "name": "stdout",
     "output_type": "stream",
     "text": [
      "/home/jupyter-seal@broadinstitut-41f01/.conda/envs/my-rdkit-env/lib/python3.10/site-packages/numpy/core/fromnumeric.py:86: RuntimeWarning: overflow encountered in reduce\n",
      "  return ufunc.reduce(obj, axis, dtype, out, **passkwargs)\n"
     ]
    },
    {
     "name": "stderr",
     "output_type": "stream",
     "text": [
      "  7%|▋         | 757/11371 [00:59<29:52,  5.92it/s]"
     ]
    },
    {
     "name": "stdout",
     "output_type": "stream",
     "text": [
      "/home/jupyter-seal@broadinstitut-41f01/.conda/envs/my-rdkit-env/lib/python3.10/site-packages/numpy/core/fromnumeric.py:86: RuntimeWarning: overflow encountered in reduce\n",
      "  return ufunc.reduce(obj, axis, dtype, out, **passkwargs)\n",
      "/home/jupyter-seal@broadinstitut-41f01/.conda/envs/my-rdkit-env/lib/python3.10/site-packages/numpy/core/fromnumeric.py:86: RuntimeWarning: overflow encountered in reduce\n",
      "  return ufunc.reduce(obj, axis, dtype, out, **passkwargs)\n"
     ]
    },
    {
     "name": "stderr",
     "output_type": "stream",
     "text": [
      "  7%|▋         | 790/11371 [01:05<27:09,  6.49it/s]"
     ]
    },
    {
     "name": "stdout",
     "output_type": "stream",
     "text": [
      "/home/jupyter-seal@broadinstitut-41f01/.conda/envs/my-rdkit-env/lib/python3.10/site-packages/numpy/core/fromnumeric.py:86: RuntimeWarning: overflow encountered in reduce\n",
      "  return ufunc.reduce(obj, axis, dtype, out, **passkwargs)\n"
     ]
    },
    {
     "name": "stderr",
     "output_type": "stream",
     "text": [
      "  8%|▊         | 890/11371 [01:28<28:08,  6.21it/s]  "
     ]
    },
    {
     "name": "stdout",
     "output_type": "stream",
     "text": [
      "/home/jupyter-seal@broadinstitut-41f01/.conda/envs/my-rdkit-env/lib/python3.10/site-packages/numpy/core/fromnumeric.py:86: RuntimeWarning: overflow encountered in reduce\n",
      "  return ufunc.reduce(obj, axis, dtype, out, **passkwargs)\n",
      "/home/jupyter-seal@broadinstitut-41f01/.conda/envs/my-rdkit-env/lib/python3.10/site-packages/numpy/core/fromnumeric.py:86: RuntimeWarning: overflow encountered in reduce\n",
      "  return ufunc.reduce(obj, axis, dtype, out, **passkwargs)\n"
     ]
    },
    {
     "name": "stderr",
     "output_type": "stream",
     "text": [
      "  8%|▊         | 964/11371 [01:39<34:42,  5.00it/s]"
     ]
    },
    {
     "name": "stdout",
     "output_type": "stream",
     "text": [
      "/home/jupyter-seal@broadinstitut-41f01/.conda/envs/my-rdkit-env/lib/python3.10/site-packages/mordred/_matrix_attributes.py:251: RuntimeWarning: invalid value encountered in scalar power\n",
      "  s += (eig.vec[i, eig.max] * eig.vec[j, eig.max]) ** -0.5\n",
      "/home/jupyter-seal@broadinstitut-41f01/.conda/envs/my-rdkit-env/lib/python3.10/site-packages/numpy/core/fromnumeric.py:86: RuntimeWarning: overflow encountered in reduce\n",
      "  return ufunc.reduce(obj, axis, dtype, out, **passkwargs)\n",
      "/home/jupyter-seal@broadinstitut-41f01/.conda/envs/my-rdkit-env/lib/python3.10/site-packages/numpy/core/fromnumeric.py:86: RuntimeWarning: overflow encountered in reduce\n",
      "  return ufunc.reduce(obj, axis, dtype, out, **passkwargs)\n",
      "/home/jupyter-seal@broadinstitut-41f01/.conda/envs/my-rdkit-env/lib/python3.10/site-packages/numpy/core/fromnumeric.py:86: RuntimeWarning: overflow encountered in reduce\n",
      "  return ufunc.reduce(obj, axis, dtype, out, **passkwargs)\n",
      "/home/jupyter-seal@broadinstitut-41f01/.conda/envs/my-rdkit-env/lib/python3.10/site-packages/numpy/core/fromnumeric.py:86: RuntimeWarning: overflow encountered in reduce\n",
      "  return ufunc.reduce(obj, axis, dtype, out, **passkwargs)\n"
     ]
    },
    {
     "name": "stderr",
     "output_type": "stream",
     "text": [
      " 10%|▉         | 1102/11371 [01:43<12:28, 13.72it/s]"
     ]
    },
    {
     "name": "stdout",
     "output_type": "stream",
     "text": [
      "/home/jupyter-seal@broadinstitut-41f01/.conda/envs/my-rdkit-env/lib/python3.10/site-packages/numpy/core/fromnumeric.py:86: RuntimeWarning: overflow encountered in reduce\n",
      "  return ufunc.reduce(obj, axis, dtype, out, **passkwargs)\n",
      "/home/jupyter-seal@broadinstitut-41f01/.conda/envs/my-rdkit-env/lib/python3.10/site-packages/numpy/core/fromnumeric.py:86: RuntimeWarning: overflow encountered in reduce\n",
      "  return ufunc.reduce(obj, axis, dtype, out, **passkwargs)\n",
      "/home/jupyter-seal@broadinstitut-41f01/.conda/envs/my-rdkit-env/lib/python3.10/site-packages/numpy/core/fromnumeric.py:86: RuntimeWarning: overflow encountered in reduce\n",
      "  return ufunc.reduce(obj, axis, dtype, out, **passkwargs)\n"
     ]
    },
    {
     "name": "stderr",
     "output_type": "stream",
     "text": [
      " 12%|█▏        | 1384/11371 [01:57<08:58, 18.53it/s]"
     ]
    },
    {
     "name": "stdout",
     "output_type": "stream",
     "text": [
      "/home/jupyter-seal@broadinstitut-41f01/.conda/envs/my-rdkit-env/lib/python3.10/site-packages/numpy/core/fromnumeric.py:86: RuntimeWarning: overflow encountered in reduce\n",
      "  return ufunc.reduce(obj, axis, dtype, out, **passkwargs)\n"
     ]
    },
    {
     "name": "stderr",
     "output_type": "stream",
     "text": [
      " 12%|█▏        | 1394/11371 [01:57<08:55, 18.63it/s]"
     ]
    },
    {
     "name": "stdout",
     "output_type": "stream",
     "text": [
      "/home/jupyter-seal@broadinstitut-41f01/.conda/envs/my-rdkit-env/lib/python3.10/site-packages/numpy/core/fromnumeric.py:86: RuntimeWarning: overflow encountered in reduce\n",
      "  return ufunc.reduce(obj, axis, dtype, out, **passkwargs)\n",
      "/home/jupyter-seal@broadinstitut-41f01/.conda/envs/my-rdkit-env/lib/python3.10/site-packages/numpy/core/fromnumeric.py:86: RuntimeWarning: overflow encountered in reduce\n",
      "  return ufunc.reduce(obj, axis, dtype, out, **passkwargs)\n",
      "/home/jupyter-seal@broadinstitut-41f01/.conda/envs/my-rdkit-env/lib/python3.10/site-packages/numpy/core/fromnumeric.py:86: RuntimeWarning: overflow encountered in reduce\n",
      "  return ufunc.reduce(obj, axis, dtype, out, **passkwargs)\n",
      "/home/jupyter-seal@broadinstitut-41f01/.conda/envs/my-rdkit-env/lib/python3.10/site-packages/numpy/core/fromnumeric.py:86: RuntimeWarning: overflow encountered in reduce\n",
      "  return ufunc.reduce(obj, axis, dtype, out, **passkwargs)\n"
     ]
    },
    {
     "name": "stderr",
     "output_type": "stream",
     "text": [
      " 14%|█▎        | 1549/11371 [02:07<09:26, 17.33it/s]"
     ]
    },
    {
     "name": "stdout",
     "output_type": "stream",
     "text": [
      "/home/jupyter-seal@broadinstitut-41f01/.conda/envs/my-rdkit-env/lib/python3.10/site-packages/numpy/core/fromnumeric.py:86: RuntimeWarning: overflow encountered in reduce\n",
      "  return ufunc.reduce(obj, axis, dtype, out, **passkwargs)\n",
      "/home/jupyter-seal@broadinstitut-41f01/.conda/envs/my-rdkit-env/lib/python3.10/site-packages/numpy/core/fromnumeric.py:86: RuntimeWarning: overflow encountered in reduce\n",
      "  return ufunc.reduce(obj, axis, dtype, out, **passkwargs)\n",
      "/home/jupyter-seal@broadinstitut-41f01/.conda/envs/my-rdkit-env/lib/python3.10/site-packages/numpy/core/fromnumeric.py:86: RuntimeWarning: overflow encountered in reduce\n",
      "  return ufunc.reduce(obj, axis, dtype, out, **passkwargs)\n",
      "/home/jupyter-seal@broadinstitut-41f01/.conda/envs/my-rdkit-env/lib/python3.10/site-packages/numpy/core/fromnumeric.py:86: RuntimeWarning: overflow encountered in reduce\n",
      "  return ufunc.reduce(obj, axis, dtype, out, **passkwargs)\n"
     ]
    },
    {
     "name": "stderr",
     "output_type": "stream",
     "text": [
      " 15%|█▌        | 1753/11371 [02:15<08:07, 19.73it/s]"
     ]
    },
    {
     "name": "stdout",
     "output_type": "stream",
     "text": [
      "/home/jupyter-seal@broadinstitut-41f01/.conda/envs/my-rdkit-env/lib/python3.10/site-packages/numpy/core/fromnumeric.py:86: RuntimeWarning: overflow encountered in reduce\n",
      "  return ufunc.reduce(obj, axis, dtype, out, **passkwargs)\n",
      "/home/jupyter-seal@broadinstitut-41f01/.conda/envs/my-rdkit-env/lib/python3.10/site-packages/numpy/core/fromnumeric.py:86: RuntimeWarning: overflow encountered in reduce\n",
      "  return ufunc.reduce(obj, axis, dtype, out, **passkwargs)\n"
     ]
    },
    {
     "name": "stderr",
     "output_type": "stream",
     "text": [
      " 33%|███▎      | 3785/11371 [03:48<04:28, 28.20it/s]"
     ]
    },
    {
     "name": "stdout",
     "output_type": "stream",
     "text": [
      "/home/jupyter-seal@broadinstitut-41f01/.conda/envs/my-rdkit-env/lib/python3.10/site-packages/numpy/core/fromnumeric.py:86: RuntimeWarning: overflow encountered in reduce\n",
      "  return ufunc.reduce(obj, axis, dtype, out, **passkwargs)\n",
      "/home/jupyter-seal@broadinstitut-41f01/.conda/envs/my-rdkit-env/lib/python3.10/site-packages/numpy/core/fromnumeric.py:86: RuntimeWarning: overflow encountered in reduce\n",
      "  return ufunc.reduce(obj, axis, dtype, out, **passkwargs)\n",
      "/home/jupyter-seal@broadinstitut-41f01/.conda/envs/my-rdkit-env/lib/python3.10/site-packages/numpy/core/fromnumeric.py:86: RuntimeWarning: overflow encountered in reduce\n",
      "  return ufunc.reduce(obj, axis, dtype, out, **passkwargs)\n"
     ]
    },
    {
     "name": "stderr",
     "output_type": "stream",
     "text": [
      " 50%|█████     | 5730/11371 [05:01<07:21, 12.77it/s]"
     ]
    },
    {
     "name": "stdout",
     "output_type": "stream",
     "text": [
      "/home/jupyter-seal@broadinstitut-41f01/.conda/envs/my-rdkit-env/lib/python3.10/site-packages/numpy/core/fromnumeric.py:86: RuntimeWarning: overflow encountered in reduce\n",
      "  return ufunc.reduce(obj, axis, dtype, out, **passkwargs)\n"
     ]
    },
    {
     "name": "stderr",
     "output_type": "stream",
     "text": [
      " 53%|█████▎    | 6050/11371 [05:16<02:07, 41.79it/s]"
     ]
    },
    {
     "name": "stdout",
     "output_type": "stream",
     "text": [
      "/home/jupyter-seal@broadinstitut-41f01/.conda/envs/my-rdkit-env/lib/python3.10/site-packages/numpy/core/fromnumeric.py:86: RuntimeWarning: overflow encountered in reduce\n",
      "  return ufunc.reduce(obj, axis, dtype, out, **passkwargs)\n",
      "/home/jupyter-seal@broadinstitut-41f01/.conda/envs/my-rdkit-env/lib/python3.10/site-packages/numpy/core/fromnumeric.py:86: RuntimeWarning: overflow encountered in reduce\n",
      "  return ufunc.reduce(obj, axis, dtype, out, **passkwargs)\n",
      "/home/jupyter-seal@broadinstitut-41f01/.conda/envs/my-rdkit-env/lib/python3.10/site-packages/numpy/core/fromnumeric.py:86: RuntimeWarning: overflow encountered in reduce\n",
      "  return ufunc.reduce(obj, axis, dtype, out, **passkwargs)\n"
     ]
    },
    {
     "name": "stderr",
     "output_type": "stream",
     "text": [
      " 53%|█████▎    | 6064/11371 [05:17<02:09, 40.84it/s]"
     ]
    },
    {
     "name": "stdout",
     "output_type": "stream",
     "text": [
      "/home/jupyter-seal@broadinstitut-41f01/.conda/envs/my-rdkit-env/lib/python3.10/site-packages/numpy/core/fromnumeric.py:86: RuntimeWarning: overflow encountered in reduce\n",
      "  return ufunc.reduce(obj, axis, dtype, out, **passkwargs)\n",
      "/home/jupyter-seal@broadinstitut-41f01/.conda/envs/my-rdkit-env/lib/python3.10/site-packages/numpy/core/fromnumeric.py:86: RuntimeWarning: overflow encountered in reduce\n",
      "  return ufunc.reduce(obj, axis, dtype, out, **passkwargs)\n",
      "/home/jupyter-seal@broadinstitut-41f01/.conda/envs/my-rdkit-env/lib/python3.10/site-packages/numpy/core/fromnumeric.py:86: RuntimeWarning: overflow encountered in reduce\n",
      "  return ufunc.reduce(obj, axis, dtype, out, **passkwargs)\n"
     ]
    },
    {
     "name": "stderr",
     "output_type": "stream",
     "text": [
      " 59%|█████▉    | 6713/11371 [05:43<02:52, 27.03it/s]"
     ]
    },
    {
     "name": "stdout",
     "output_type": "stream",
     "text": [
      "/home/jupyter-seal@broadinstitut-41f01/.conda/envs/my-rdkit-env/lib/python3.10/site-packages/numpy/core/fromnumeric.py:86: RuntimeWarning: overflow encountered in reduce\n",
      "  return ufunc.reduce(obj, axis, dtype, out, **passkwargs)\n"
     ]
    },
    {
     "name": "stderr",
     "output_type": "stream",
     "text": [
      " 64%|██████▍   | 7259/11371 [06:00<01:53, 36.27it/s]"
     ]
    },
    {
     "name": "stdout",
     "output_type": "stream",
     "text": [
      "/home/jupyter-seal@broadinstitut-41f01/.conda/envs/my-rdkit-env/lib/python3.10/site-packages/numpy/core/fromnumeric.py:86: RuntimeWarning: overflow encountered in reduce\n",
      "  return ufunc.reduce(obj, axis, dtype, out, **passkwargs)\n"
     ]
    },
    {
     "name": "stderr",
     "output_type": "stream",
     "text": [
      " 66%|██████▌   | 7450/11371 [06:09<02:27, 26.54it/s]"
     ]
    },
    {
     "name": "stdout",
     "output_type": "stream",
     "text": [
      "/home/jupyter-seal@broadinstitut-41f01/.conda/envs/my-rdkit-env/lib/python3.10/site-packages/numpy/core/fromnumeric.py:86: RuntimeWarning: overflow encountered in reduce\n",
      "  return ufunc.reduce(obj, axis, dtype, out, **passkwargs)\n"
     ]
    },
    {
     "name": "stderr",
     "output_type": "stream",
     "text": [
      " 68%|██████▊   | 7741/11371 [06:20<02:51, 21.18it/s]"
     ]
    },
    {
     "name": "stdout",
     "output_type": "stream",
     "text": [
      "/home/jupyter-seal@broadinstitut-41f01/.conda/envs/my-rdkit-env/lib/python3.10/site-packages/numpy/core/fromnumeric.py:86: RuntimeWarning: overflow encountered in reduce\n",
      "  return ufunc.reduce(obj, axis, dtype, out, **passkwargs)\n",
      "/home/jupyter-seal@broadinstitut-41f01/.conda/envs/my-rdkit-env/lib/python3.10/site-packages/numpy/core/fromnumeric.py:86: RuntimeWarning: overflow encountered in reduce\n",
      "  return ufunc.reduce(obj, axis, dtype, out, **passkwargs)\n",
      "/home/jupyter-seal@broadinstitut-41f01/.conda/envs/my-rdkit-env/lib/python3.10/site-packages/numpy/core/fromnumeric.py:86: RuntimeWarning: overflow encountered in reduce\n",
      "  return ufunc.reduce(obj, axis, dtype, out, **passkwargs)\n"
     ]
    },
    {
     "name": "stderr",
     "output_type": "stream",
     "text": [
      " 70%|██████▉   | 7906/11371 [06:32<04:06, 14.08it/s]"
     ]
    },
    {
     "name": "stdout",
     "output_type": "stream",
     "text": [
      "/home/jupyter-seal@broadinstitut-41f01/.conda/envs/my-rdkit-env/lib/python3.10/site-packages/numpy/core/fromnumeric.py:86: RuntimeWarning: overflow encountered in reduce\n",
      "  return ufunc.reduce(obj, axis, dtype, out, **passkwargs)\n",
      "/home/jupyter-seal@broadinstitut-41f01/.conda/envs/my-rdkit-env/lib/python3.10/site-packages/numpy/core/fromnumeric.py:86: RuntimeWarning: overflow encountered in reduce\n",
      "  return ufunc.reduce(obj, axis, dtype, out, **passkwargs)\n"
     ]
    },
    {
     "name": "stderr",
     "output_type": "stream",
     "text": [
      " 70%|███████   | 8004/11371 [06:38<01:49, 30.62it/s]"
     ]
    },
    {
     "name": "stdout",
     "output_type": "stream",
     "text": [
      "/home/jupyter-seal@broadinstitut-41f01/.conda/envs/my-rdkit-env/lib/python3.10/site-packages/numpy/core/fromnumeric.py:86: RuntimeWarning: overflow encountered in reduce\n",
      "  return ufunc.reduce(obj, axis, dtype, out, **passkwargs)\n"
     ]
    },
    {
     "name": "stderr",
     "output_type": "stream",
     "text": [
      " 70%|███████   | 8016/11371 [06:39<04:19, 12.92it/s]"
     ]
    },
    {
     "name": "stdout",
     "output_type": "stream",
     "text": [
      "/home/jupyter-seal@broadinstitut-41f01/.conda/envs/my-rdkit-env/lib/python3.10/site-packages/numpy/core/fromnumeric.py:86: RuntimeWarning: overflow encountered in reduce\n",
      "  return ufunc.reduce(obj, axis, dtype, out, **passkwargs)\n",
      "/home/jupyter-seal@broadinstitut-41f01/.conda/envs/my-rdkit-env/lib/python3.10/site-packages/numpy/core/fromnumeric.py:86: RuntimeWarning: overflow encountered in reduce\n",
      "  return ufunc.reduce(obj, axis, dtype, out, **passkwargs)\n"
     ]
    },
    {
     "name": "stderr",
     "output_type": "stream",
     "text": [
      " 84%|████████▍ | 9555/11371 [07:36<01:04, 28.37it/s]"
     ]
    },
    {
     "name": "stdout",
     "output_type": "stream",
     "text": [
      "/home/jupyter-seal@broadinstitut-41f01/.conda/envs/my-rdkit-env/lib/python3.10/site-packages/numpy/core/fromnumeric.py:86: RuntimeWarning: overflow encountered in reduce\n",
      "  return ufunc.reduce(obj, axis, dtype, out, **passkwargs)\n"
     ]
    },
    {
     "name": "stderr",
     "output_type": "stream",
     "text": [
      " 89%|████████▉ | 10156/11371 [08:08<01:34, 12.88it/s]"
     ]
    },
    {
     "name": "stdout",
     "output_type": "stream",
     "text": [
      "/home/jupyter-seal@broadinstitut-41f01/.conda/envs/my-rdkit-env/lib/python3.10/site-packages/numpy/core/fromnumeric.py:86: RuntimeWarning: overflow encountered in reduce\n",
      "  return ufunc.reduce(obj, axis, dtype, out, **passkwargs)\n"
     ]
    },
    {
     "name": "stderr",
     "output_type": "stream",
     "text": [
      " 97%|█████████▋| 11028/11371 [08:39<00:42,  8.05it/s]"
     ]
    },
    {
     "name": "stdout",
     "output_type": "stream",
     "text": [
      "/home/jupyter-seal@broadinstitut-41f01/.conda/envs/my-rdkit-env/lib/python3.10/site-packages/numpy/core/fromnumeric.py:86: RuntimeWarning: overflow encountered in reduce\n",
      "  return ufunc.reduce(obj, axis, dtype, out, **passkwargs)\n"
     ]
    },
    {
     "name": "stderr",
     "output_type": "stream",
     "text": [
      " 97%|█████████▋| 11031/11371 [08:40<00:44,  7.72it/s]"
     ]
    },
    {
     "name": "stdout",
     "output_type": "stream",
     "text": [
      "/home/jupyter-seal@broadinstitut-41f01/.conda/envs/my-rdkit-env/lib/python3.10/site-packages/numpy/core/fromnumeric.py:86: RuntimeWarning: overflow encountered in reduce\n",
      "  return ufunc.reduce(obj, axis, dtype, out, **passkwargs)\n"
     ]
    },
    {
     "name": "stderr",
     "output_type": "stream",
     "text": [
      "100%|██████████| 11371/11371 [08:47<00:00, 21.57it/s]\n",
      "/home/jupyter-seal@broadinstitut-41f01/.conda/envs/my-rdkit-env/lib/python3.10/site-packages/mordred/_base/pandas_module.py:17: FutureWarning: DataFrame.applymap has been deprecated. Use DataFrame.map instead.\n",
      "  t[t.applymap(is_missing)] = value\n"
     ]
    }
   ],
   "source": [
    "from rdkit import Chem\n",
    "from mordred import Calculator, descriptors\n",
    "\n",
    "# Create a Mordred Calculator object with all available descriptors\n",
    "calc = Calculator(descriptors, ignore_3D=True)\n",
    "\n",
    "# Function to convert SMILES string to RDKit molecule\n",
    "def smiles_to_mol(smiles):\n",
    "    mol = Chem.MolFromSmiles(smiles)\n",
    "    if mol is not None:  # Check if the molecule conversion was successful\n",
    "        return mol\n",
    "    else:\n",
    "        return None\n",
    "\n",
    "# Convert the 'protonated_Output' column to RDKit Mol objects\n",
    "df['mol'] = df['protonated_Output'].apply(smiles_to_mol)\n",
    "\n",
    "# Remove rows with None values in the 'mol' column (failed molecule conversions)\n",
    "df = df.dropna(subset=['mol'])\n",
    "\n",
    "# Calculate descriptors for each molecule\n",
    "# The .fill_missing() method is used to fill in NaNs for descriptors that cannot be calculated\n",
    "df_descriptors = calc.pandas(df['mol'].tolist()).fill_missing()\n",
    "\n",
    "# Now df_descriptors contains the calculated descriptors for each molecule\n"
   ]
  },
  {
   "cell_type": "code",
   "execution_count": 26,
   "id": "a68c30cc-fb22-461c-852c-8e376a262de3",
   "metadata": {},
   "outputs": [],
   "source": [
    "# Step 1: Concatenate the original DataFrame (df) with the descriptors DataFrame (df_descriptors)\n",
    "# Ensure the index aligns between the two DataFrames. If not, you may need to reset the index on both.\n",
    "df.reset_index(drop=True, inplace=True)\n",
    "df_descriptors.reset_index(drop=True, inplace=True)\n",
    "df_combined = pd.concat([df, df_descriptors], axis=1)\n",
    "\n",
    "# Step 2: Remove columns with any NaN values in the descriptor part\n",
    "# This focuses on the descriptor columns, assuming they start right after the original df columns\n",
    "df_combined_clean = df_combined.dropna(axis=1, how='any')\n",
    "\n",
    "# Step 3: Convert the descriptor columns to lists and add as a new column in the original df\n",
    "# Determine the start index of the descriptor columns\n",
    "start_idx_of_descriptors = len(df.columns)\n",
    "\n",
    "# Convert descriptor rows to lists and store in the original DataFrame\n",
    "df['mordred_descriptors'] = df_combined_clean.iloc[:, start_idx_of_descriptors:].apply(lambda row: row.tolist(), axis=1)\n",
    "\n",
    "# Now df contains an additional column 'descriptors_as_list' with the descriptors as lists,\n",
    "# and all columns with at least one NaN across molecules have been removed\n"
   ]
  },
  {
   "cell_type": "code",
   "execution_count": 27,
   "id": "6a359be5-c864-4c0a-b877-038765877732",
   "metadata": {},
   "outputs": [
    {
     "data": {
      "text/html": [
       "<div>\n",
       "<style scoped>\n",
       "    .dataframe tbody tr th:only-of-type {\n",
       "        vertical-align: middle;\n",
       "    }\n",
       "\n",
       "    .dataframe tbody tr th {\n",
       "        vertical-align: top;\n",
       "    }\n",
       "\n",
       "    .dataframe thead th {\n",
       "        text-align: right;\n",
       "    }\n",
       "</style>\n",
       "<table border=\"1\" class=\"dataframe\">\n",
       "  <thead>\n",
       "    <tr style=\"text-align: right;\">\n",
       "      <th></th>\n",
       "      <th>Unnamed: 0</th>\n",
       "      <th>protonated_Output</th>\n",
       "      <th>InchiKey</th>\n",
       "      <th>Label</th>\n",
       "      <th>morgan_fingerprint</th>\n",
       "      <th>mol</th>\n",
       "      <th>mordred_descriptors</th>\n",
       "    </tr>\n",
       "  </thead>\n",
       "  <tbody>\n",
       "    <tr>\n",
       "      <th>0</th>\n",
       "      <td>0</td>\n",
       "      <td>CCN(CC)c1cc(C)nc2ncnn12</td>\n",
       "      <td>GSNOZLZNQMLSKJ</td>\n",
       "      <td>1.0</td>\n",
       "      <td>[0, 0, 0, 0, 1, 0, 0, 0, 0, 0, 0, 0, 0, 0, 0, ...</td>\n",
       "      <td>&lt;rdkit.Chem.rdchem.Mol object at 0x7fcae57b2c70&gt;</td>\n",
       "      <td>[0, 19.043901486964472, 2.4390756951645276, 4....</td>\n",
       "    </tr>\n",
       "    <tr>\n",
       "      <th>1</th>\n",
       "      <td>1</td>\n",
       "      <td>CCOC(=O)n1ccn(C)c1=S</td>\n",
       "      <td>CFOYWRHIYXMDOT</td>\n",
       "      <td>1.0</td>\n",
       "      <td>[0, 0, 0, 0, 0, 0, 0, 0, 0, 0, 0, 0, 0, 0, 0, ...</td>\n",
       "      <td>&lt;rdkit.Chem.rdchem.Mol object at 0x7fcae57b2ce0&gt;</td>\n",
       "      <td>[0, 14.336570447189814, 2.357540294271959, 4.5...</td>\n",
       "    </tr>\n",
       "    <tr>\n",
       "      <th>2</th>\n",
       "      <td>2</td>\n",
       "      <td>CCOC1OC(=O)CC1NC(=O)C1CCC[NH+]2C(=O)CCC(NC(=O)...</td>\n",
       "      <td>CXAGHAZMQSCAKJ</td>\n",
       "      <td>1.0</td>\n",
       "      <td>[0, 0, 0, 0, 0, 0, 0, 0, 0, 0, 0, 0, 0, 1, 0, ...</td>\n",
       "      <td>&lt;rdkit.Chem.rdchem.Mol object at 0x7fcae57b2d50&gt;</td>\n",
       "      <td>[2, 49.63881254532599, 2.4853700691676073, 4.9...</td>\n",
       "    </tr>\n",
       "    <tr>\n",
       "      <th>3</th>\n",
       "      <td>3</td>\n",
       "      <td>OC1(c2ccc(Cl)cc2)c2ccccc2C2=[NH+]CCN21</td>\n",
       "      <td>ZPXSCAKFGYXMGA</td>\n",
       "      <td>1.0</td>\n",
       "      <td>[0, 0, 0, 0, 0, 0, 0, 0, 0, 0, 0, 0, 0, 0, 0, ...</td>\n",
       "      <td>&lt;rdkit.Chem.rdchem.Mol object at 0x7fcae57b2dc0&gt;</td>\n",
       "      <td>[2, 26.837123397471558, 2.629282254806511, 5.0...</td>\n",
       "    </tr>\n",
       "    <tr>\n",
       "      <th>4</th>\n",
       "      <td>4</td>\n",
       "      <td>C[NH+](CC(=O)[NH+]1CCOCC1)Cc1c(Cl)cccc1NC(=O)c...</td>\n",
       "      <td>KSNNEUZOAFRTDS</td>\n",
       "      <td>1.0</td>\n",
       "      <td>[0, 0, 0, 0, 0, 0, 0, 0, 0, 0, 0, 0, 0, 0, 0, ...</td>\n",
       "      <td>&lt;rdkit.Chem.rdchem.Mol object at 0x7fcae57b2ea0&gt;</td>\n",
       "      <td>[2, 36.178964768187164, 2.3693797764670927, 4....</td>\n",
       "    </tr>\n",
       "    <tr>\n",
       "      <th>...</th>\n",
       "      <td>...</td>\n",
       "      <td>...</td>\n",
       "      <td>...</td>\n",
       "      <td>...</td>\n",
       "      <td>...</td>\n",
       "      <td>...</td>\n",
       "      <td>...</td>\n",
       "    </tr>\n",
       "    <tr>\n",
       "      <th>11366</th>\n",
       "      <td>11366</td>\n",
       "      <td>N=c1cc(N2CCCCC2)[n-]c(=N)n1O[C@@H]1O[C@H](CO)[...</td>\n",
       "      <td>JSIFDEAPGYAUEU</td>\n",
       "      <td>NaN</td>\n",
       "      <td>[0, 0, 1, 0, 0, 0, 0, 0, 0, 0, 0, 0, 0, 0, 0, ...</td>\n",
       "      <td>&lt;rdkit.Chem.rdchem.Mol object at 0x7fcae55c6d50&gt;</td>\n",
       "      <td>[0, 33.30217331070357, 2.441850884126477, 4.88...</td>\n",
       "    </tr>\n",
       "    <tr>\n",
       "      <th>11367</th>\n",
       "      <td>11367</td>\n",
       "      <td>N=c1nc([O-])cc(N2CCC(O)CC2)[n-]1</td>\n",
       "      <td>DAOZHVLVEAVFRV</td>\n",
       "      <td>NaN</td>\n",
       "      <td>[0, 0, 0, 0, 0, 0, 0, 0, 0, 0, 0, 0, 0, 0, 0, ...</td>\n",
       "      <td>&lt;rdkit.Chem.rdchem.Mol object at 0x7fcae55c6dc0&gt;</td>\n",
       "      <td>[0, 18.562493888361274, 2.3459549226145686, 4....</td>\n",
       "    </tr>\n",
       "    <tr>\n",
       "      <th>11368</th>\n",
       "      <td>11368</td>\n",
       "      <td>N=c1cc(N2CCC(O)CC2)[n-]c(=N)n1[O-]</td>\n",
       "      <td>PSCRHPOOYXSDFG</td>\n",
       "      <td>NaN</td>\n",
       "      <td>[0, 0, 0, 0, 0, 0, 0, 0, 0, 0, 0, 0, 0, 0, 0, ...</td>\n",
       "      <td>&lt;rdkit.Chem.rdchem.Mol object at 0x7fcae55c6e30&gt;</td>\n",
       "      <td>[0, 20.038834639001276, 2.379951836463614, 4.7...</td>\n",
       "    </tr>\n",
       "    <tr>\n",
       "      <th>11369</th>\n",
       "      <td>11369</td>\n",
       "      <td>N=c1nc(N2CCCCC2)cc([O-])n1[O-]</td>\n",
       "      <td>BDOBGJUSTDCVPF</td>\n",
       "      <td>NaN</td>\n",
       "      <td>[0, 0, 1, 0, 0, 0, 0, 0, 0, 0, 0, 0, 0, 0, 0, ...</td>\n",
       "      <td>&lt;rdkit.Chem.rdchem.Mol object at 0x7fcae55c6ea0&gt;</td>\n",
       "      <td>[0, 19.276998124333396, 2.3728576377767836, 4....</td>\n",
       "    </tr>\n",
       "    <tr>\n",
       "      <th>11370</th>\n",
       "      <td>11370</td>\n",
       "      <td>Nc1nc(N2CCCC(O)C2)cc(=NO)[n-]1</td>\n",
       "      <td>NLWRGEBZOMWIPO</td>\n",
       "      <td>NaN</td>\n",
       "      <td>[0, 0, 0, 0, 0, 0, 0, 0, 0, 0, 0, 0, 0, 0, 0, ...</td>\n",
       "      <td>&lt;rdkit.Chem.rdchem.Mol object at 0x7fcae55c6f10&gt;</td>\n",
       "      <td>[0, 20.240365838100985, 2.35758452466744, 4.71...</td>\n",
       "    </tr>\n",
       "  </tbody>\n",
       "</table>\n",
       "<p>11371 rows × 7 columns</p>\n",
       "</div>"
      ],
      "text/plain": [
       "       Unnamed: 0                                  protonated_Output  \\\n",
       "0               0                            CCN(CC)c1cc(C)nc2ncnn12   \n",
       "1               1                               CCOC(=O)n1ccn(C)c1=S   \n",
       "2               2  CCOC1OC(=O)CC1NC(=O)C1CCC[NH+]2C(=O)CCC(NC(=O)...   \n",
       "3               3             OC1(c2ccc(Cl)cc2)c2ccccc2C2=[NH+]CCN21   \n",
       "4               4  C[NH+](CC(=O)[NH+]1CCOCC1)Cc1c(Cl)cccc1NC(=O)c...   \n",
       "...           ...                                                ...   \n",
       "11366       11366  N=c1cc(N2CCCCC2)[n-]c(=N)n1O[C@@H]1O[C@H](CO)[...   \n",
       "11367       11367                   N=c1nc([O-])cc(N2CCC(O)CC2)[n-]1   \n",
       "11368       11368                 N=c1cc(N2CCC(O)CC2)[n-]c(=N)n1[O-]   \n",
       "11369       11369                     N=c1nc(N2CCCCC2)cc([O-])n1[O-]   \n",
       "11370       11370                     Nc1nc(N2CCCC(O)C2)cc(=NO)[n-]1   \n",
       "\n",
       "             InchiKey  Label  \\\n",
       "0      GSNOZLZNQMLSKJ    1.0   \n",
       "1      CFOYWRHIYXMDOT    1.0   \n",
       "2      CXAGHAZMQSCAKJ    1.0   \n",
       "3      ZPXSCAKFGYXMGA    1.0   \n",
       "4      KSNNEUZOAFRTDS    1.0   \n",
       "...               ...    ...   \n",
       "11366  JSIFDEAPGYAUEU    NaN   \n",
       "11367  DAOZHVLVEAVFRV    NaN   \n",
       "11368  PSCRHPOOYXSDFG    NaN   \n",
       "11369  BDOBGJUSTDCVPF    NaN   \n",
       "11370  NLWRGEBZOMWIPO    NaN   \n",
       "\n",
       "                                      morgan_fingerprint  \\\n",
       "0      [0, 0, 0, 0, 1, 0, 0, 0, 0, 0, 0, 0, 0, 0, 0, ...   \n",
       "1      [0, 0, 0, 0, 0, 0, 0, 0, 0, 0, 0, 0, 0, 0, 0, ...   \n",
       "2      [0, 0, 0, 0, 0, 0, 0, 0, 0, 0, 0, 0, 0, 1, 0, ...   \n",
       "3      [0, 0, 0, 0, 0, 0, 0, 0, 0, 0, 0, 0, 0, 0, 0, ...   \n",
       "4      [0, 0, 0, 0, 0, 0, 0, 0, 0, 0, 0, 0, 0, 0, 0, ...   \n",
       "...                                                  ...   \n",
       "11366  [0, 0, 1, 0, 0, 0, 0, 0, 0, 0, 0, 0, 0, 0, 0, ...   \n",
       "11367  [0, 0, 0, 0, 0, 0, 0, 0, 0, 0, 0, 0, 0, 0, 0, ...   \n",
       "11368  [0, 0, 0, 0, 0, 0, 0, 0, 0, 0, 0, 0, 0, 0, 0, ...   \n",
       "11369  [0, 0, 1, 0, 0, 0, 0, 0, 0, 0, 0, 0, 0, 0, 0, ...   \n",
       "11370  [0, 0, 0, 0, 0, 0, 0, 0, 0, 0, 0, 0, 0, 0, 0, ...   \n",
       "\n",
       "                                                    mol  \\\n",
       "0      <rdkit.Chem.rdchem.Mol object at 0x7fcae57b2c70>   \n",
       "1      <rdkit.Chem.rdchem.Mol object at 0x7fcae57b2ce0>   \n",
       "2      <rdkit.Chem.rdchem.Mol object at 0x7fcae57b2d50>   \n",
       "3      <rdkit.Chem.rdchem.Mol object at 0x7fcae57b2dc0>   \n",
       "4      <rdkit.Chem.rdchem.Mol object at 0x7fcae57b2ea0>   \n",
       "...                                                 ...   \n",
       "11366  <rdkit.Chem.rdchem.Mol object at 0x7fcae55c6d50>   \n",
       "11367  <rdkit.Chem.rdchem.Mol object at 0x7fcae55c6dc0>   \n",
       "11368  <rdkit.Chem.rdchem.Mol object at 0x7fcae55c6e30>   \n",
       "11369  <rdkit.Chem.rdchem.Mol object at 0x7fcae55c6ea0>   \n",
       "11370  <rdkit.Chem.rdchem.Mol object at 0x7fcae55c6f10>   \n",
       "\n",
       "                                     mordred_descriptors  \n",
       "0      [0, 19.043901486964472, 2.4390756951645276, 4....  \n",
       "1      [0, 14.336570447189814, 2.357540294271959, 4.5...  \n",
       "2      [2, 49.63881254532599, 2.4853700691676073, 4.9...  \n",
       "3      [2, 26.837123397471558, 2.629282254806511, 5.0...  \n",
       "4      [2, 36.178964768187164, 2.3693797764670927, 4....  \n",
       "...                                                  ...  \n",
       "11366  [0, 33.30217331070357, 2.441850884126477, 4.88...  \n",
       "11367  [0, 18.562493888361274, 2.3459549226145686, 4....  \n",
       "11368  [0, 20.038834639001276, 2.379951836463614, 4.7...  \n",
       "11369  [0, 19.276998124333396, 2.3728576377767836, 4....  \n",
       "11370  [0, 20.240365838100985, 2.35758452466744, 4.71...  \n",
       "\n",
       "[11371 rows x 7 columns]"
      ]
     },
     "execution_count": 27,
     "metadata": {},
     "output_type": "execute_result"
    }
   ],
   "source": [
    "df"
   ]
  },
  {
   "cell_type": "code",
   "execution_count": null,
   "id": "4804ae51-0320-4b0b-a0d1-8c40c81bbd41",
   "metadata": {},
   "outputs": [],
   "source": [
    "df.to_csv(\"data/DILIst_features_v2.csv.gz\", index=False, compression=\"gzip\")"
   ]
  },
  {
   "cell_type": "code",
   "execution_count": 29,
   "id": "9db22174-91c4-43c3-8776-eab882a0aa70",
   "metadata": {},
   "outputs": [],
   "source": [
    "import pandas as pd"
   ]
  },
  {
   "cell_type": "code",
   "execution_count": 31,
   "id": "33bac6aa-bd8a-4f8b-afb1-7650d84a9028",
   "metadata": {},
   "outputs": [
    {
     "data": {
      "text/html": [
       "<div>\n",
       "<style scoped>\n",
       "    .dataframe tbody tr th:only-of-type {\n",
       "        vertical-align: middle;\n",
       "    }\n",
       "\n",
       "    .dataframe tbody tr th {\n",
       "        vertical-align: top;\n",
       "    }\n",
       "\n",
       "    .dataframe thead th {\n",
       "        text-align: right;\n",
       "    }\n",
       "</style>\n",
       "<table border=\"1\" class=\"dataframe\">\n",
       "  <thead>\n",
       "    <tr style=\"text-align: right;\">\n",
       "      <th></th>\n",
       "      <th>Unnamed: 0</th>\n",
       "      <th>protonated_Output</th>\n",
       "      <th>InchiKey</th>\n",
       "      <th>Label</th>\n",
       "      <th>morgan_fingerprint</th>\n",
       "      <th>mol</th>\n",
       "      <th>mordred_descriptors</th>\n",
       "    </tr>\n",
       "  </thead>\n",
       "  <tbody>\n",
       "    <tr>\n",
       "      <th>0</th>\n",
       "      <td>0</td>\n",
       "      <td>CCN(CC)c1cc(C)nc2ncnn12</td>\n",
       "      <td>GSNOZLZNQMLSKJ</td>\n",
       "      <td>1.0</td>\n",
       "      <td>[0, 0, 0, 0, 1, 0, 0, 0, 0, 0, 0, 0, 0, 0, 0, ...</td>\n",
       "      <td>&lt;rdkit.Chem.rdchem.Mol object at 0x7fcae57b2c70&gt;</td>\n",
       "      <td>[0, 19.043901486964472, 2.4390756951645276, 4....</td>\n",
       "    </tr>\n",
       "    <tr>\n",
       "      <th>1</th>\n",
       "      <td>1</td>\n",
       "      <td>CCOC(=O)n1ccn(C)c1=S</td>\n",
       "      <td>CFOYWRHIYXMDOT</td>\n",
       "      <td>1.0</td>\n",
       "      <td>[0, 0, 0, 0, 0, 0, 0, 0, 0, 0, 0, 0, 0, 0, 0, ...</td>\n",
       "      <td>&lt;rdkit.Chem.rdchem.Mol object at 0x7fcae57b2ce0&gt;</td>\n",
       "      <td>[0, 14.336570447189814, 2.357540294271959, 4.5...</td>\n",
       "    </tr>\n",
       "    <tr>\n",
       "      <th>2</th>\n",
       "      <td>2</td>\n",
       "      <td>CCOC1OC(=O)CC1NC(=O)C1CCC[NH+]2C(=O)CCC(NC(=O)...</td>\n",
       "      <td>CXAGHAZMQSCAKJ</td>\n",
       "      <td>1.0</td>\n",
       "      <td>[0, 0, 0, 0, 0, 0, 0, 0, 0, 0, 0, 0, 0, 1, 0, ...</td>\n",
       "      <td>&lt;rdkit.Chem.rdchem.Mol object at 0x7fcae57b2d50&gt;</td>\n",
       "      <td>[2, 49.63881254532599, 2.4853700691676073, 4.9...</td>\n",
       "    </tr>\n",
       "    <tr>\n",
       "      <th>3</th>\n",
       "      <td>3</td>\n",
       "      <td>OC1(c2ccc(Cl)cc2)c2ccccc2C2=[NH+]CCN21</td>\n",
       "      <td>ZPXSCAKFGYXMGA</td>\n",
       "      <td>1.0</td>\n",
       "      <td>[0, 0, 0, 0, 0, 0, 0, 0, 0, 0, 0, 0, 0, 0, 0, ...</td>\n",
       "      <td>&lt;rdkit.Chem.rdchem.Mol object at 0x7fcae57b2dc0&gt;</td>\n",
       "      <td>[2, 26.837123397471558, 2.629282254806511, 5.0...</td>\n",
       "    </tr>\n",
       "    <tr>\n",
       "      <th>4</th>\n",
       "      <td>4</td>\n",
       "      <td>C[NH+](CC(=O)[NH+]1CCOCC1)Cc1c(Cl)cccc1NC(=O)c...</td>\n",
       "      <td>KSNNEUZOAFRTDS</td>\n",
       "      <td>1.0</td>\n",
       "      <td>[0, 0, 0, 0, 0, 0, 0, 0, 0, 0, 0, 0, 0, 0, 0, ...</td>\n",
       "      <td>&lt;rdkit.Chem.rdchem.Mol object at 0x7fcae57b2ea0&gt;</td>\n",
       "      <td>[2, 36.178964768187164, 2.3693797764670927, 4....</td>\n",
       "    </tr>\n",
       "    <tr>\n",
       "      <th>...</th>\n",
       "      <td>...</td>\n",
       "      <td>...</td>\n",
       "      <td>...</td>\n",
       "      <td>...</td>\n",
       "      <td>...</td>\n",
       "      <td>...</td>\n",
       "      <td>...</td>\n",
       "    </tr>\n",
       "    <tr>\n",
       "      <th>11366</th>\n",
       "      <td>11366</td>\n",
       "      <td>N=c1cc(N2CCCCC2)[n-]c(=N)n1O[C@@H]1O[C@H](CO)[...</td>\n",
       "      <td>JSIFDEAPGYAUEU</td>\n",
       "      <td>NaN</td>\n",
       "      <td>[0, 0, 1, 0, 0, 0, 0, 0, 0, 0, 0, 0, 0, 0, 0, ...</td>\n",
       "      <td>&lt;rdkit.Chem.rdchem.Mol object at 0x7fcae55c6d50&gt;</td>\n",
       "      <td>[0, 33.30217331070357, 2.441850884126477, 4.88...</td>\n",
       "    </tr>\n",
       "    <tr>\n",
       "      <th>11367</th>\n",
       "      <td>11367</td>\n",
       "      <td>N=c1nc([O-])cc(N2CCC(O)CC2)[n-]1</td>\n",
       "      <td>DAOZHVLVEAVFRV</td>\n",
       "      <td>NaN</td>\n",
       "      <td>[0, 0, 0, 0, 0, 0, 0, 0, 0, 0, 0, 0, 0, 0, 0, ...</td>\n",
       "      <td>&lt;rdkit.Chem.rdchem.Mol object at 0x7fcae55c6dc0&gt;</td>\n",
       "      <td>[0, 18.562493888361274, 2.3459549226145686, 4....</td>\n",
       "    </tr>\n",
       "    <tr>\n",
       "      <th>11368</th>\n",
       "      <td>11368</td>\n",
       "      <td>N=c1cc(N2CCC(O)CC2)[n-]c(=N)n1[O-]</td>\n",
       "      <td>PSCRHPOOYXSDFG</td>\n",
       "      <td>NaN</td>\n",
       "      <td>[0, 0, 0, 0, 0, 0, 0, 0, 0, 0, 0, 0, 0, 0, 0, ...</td>\n",
       "      <td>&lt;rdkit.Chem.rdchem.Mol object at 0x7fcae55c6e30&gt;</td>\n",
       "      <td>[0, 20.038834639001276, 2.379951836463614, 4.7...</td>\n",
       "    </tr>\n",
       "    <tr>\n",
       "      <th>11369</th>\n",
       "      <td>11369</td>\n",
       "      <td>N=c1nc(N2CCCCC2)cc([O-])n1[O-]</td>\n",
       "      <td>BDOBGJUSTDCVPF</td>\n",
       "      <td>NaN</td>\n",
       "      <td>[0, 0, 1, 0, 0, 0, 0, 0, 0, 0, 0, 0, 0, 0, 0, ...</td>\n",
       "      <td>&lt;rdkit.Chem.rdchem.Mol object at 0x7fcae55c6ea0&gt;</td>\n",
       "      <td>[0, 19.276998124333396, 2.3728576377767836, 4....</td>\n",
       "    </tr>\n",
       "    <tr>\n",
       "      <th>11370</th>\n",
       "      <td>11370</td>\n",
       "      <td>Nc1nc(N2CCCC(O)C2)cc(=NO)[n-]1</td>\n",
       "      <td>NLWRGEBZOMWIPO</td>\n",
       "      <td>NaN</td>\n",
       "      <td>[0, 0, 0, 0, 0, 0, 0, 0, 0, 0, 0, 0, 0, 0, 0, ...</td>\n",
       "      <td>&lt;rdkit.Chem.rdchem.Mol object at 0x7fcae55c6f10&gt;</td>\n",
       "      <td>[0, 20.240365838100985, 2.35758452466744, 4.71...</td>\n",
       "    </tr>\n",
       "  </tbody>\n",
       "</table>\n",
       "<p>11371 rows × 7 columns</p>\n",
       "</div>"
      ],
      "text/plain": [
       "       Unnamed: 0                                  protonated_Output  \\\n",
       "0               0                            CCN(CC)c1cc(C)nc2ncnn12   \n",
       "1               1                               CCOC(=O)n1ccn(C)c1=S   \n",
       "2               2  CCOC1OC(=O)CC1NC(=O)C1CCC[NH+]2C(=O)CCC(NC(=O)...   \n",
       "3               3             OC1(c2ccc(Cl)cc2)c2ccccc2C2=[NH+]CCN21   \n",
       "4               4  C[NH+](CC(=O)[NH+]1CCOCC1)Cc1c(Cl)cccc1NC(=O)c...   \n",
       "...           ...                                                ...   \n",
       "11366       11366  N=c1cc(N2CCCCC2)[n-]c(=N)n1O[C@@H]1O[C@H](CO)[...   \n",
       "11367       11367                   N=c1nc([O-])cc(N2CCC(O)CC2)[n-]1   \n",
       "11368       11368                 N=c1cc(N2CCC(O)CC2)[n-]c(=N)n1[O-]   \n",
       "11369       11369                     N=c1nc(N2CCCCC2)cc([O-])n1[O-]   \n",
       "11370       11370                     Nc1nc(N2CCCC(O)C2)cc(=NO)[n-]1   \n",
       "\n",
       "             InchiKey  Label  \\\n",
       "0      GSNOZLZNQMLSKJ    1.0   \n",
       "1      CFOYWRHIYXMDOT    1.0   \n",
       "2      CXAGHAZMQSCAKJ    1.0   \n",
       "3      ZPXSCAKFGYXMGA    1.0   \n",
       "4      KSNNEUZOAFRTDS    1.0   \n",
       "...               ...    ...   \n",
       "11366  JSIFDEAPGYAUEU    NaN   \n",
       "11367  DAOZHVLVEAVFRV    NaN   \n",
       "11368  PSCRHPOOYXSDFG    NaN   \n",
       "11369  BDOBGJUSTDCVPF    NaN   \n",
       "11370  NLWRGEBZOMWIPO    NaN   \n",
       "\n",
       "                                      morgan_fingerprint  \\\n",
       "0      [0, 0, 0, 0, 1, 0, 0, 0, 0, 0, 0, 0, 0, 0, 0, ...   \n",
       "1      [0, 0, 0, 0, 0, 0, 0, 0, 0, 0, 0, 0, 0, 0, 0, ...   \n",
       "2      [0, 0, 0, 0, 0, 0, 0, 0, 0, 0, 0, 0, 0, 1, 0, ...   \n",
       "3      [0, 0, 0, 0, 0, 0, 0, 0, 0, 0, 0, 0, 0, 0, 0, ...   \n",
       "4      [0, 0, 0, 0, 0, 0, 0, 0, 0, 0, 0, 0, 0, 0, 0, ...   \n",
       "...                                                  ...   \n",
       "11366  [0, 0, 1, 0, 0, 0, 0, 0, 0, 0, 0, 0, 0, 0, 0, ...   \n",
       "11367  [0, 0, 0, 0, 0, 0, 0, 0, 0, 0, 0, 0, 0, 0, 0, ...   \n",
       "11368  [0, 0, 0, 0, 0, 0, 0, 0, 0, 0, 0, 0, 0, 0, 0, ...   \n",
       "11369  [0, 0, 1, 0, 0, 0, 0, 0, 0, 0, 0, 0, 0, 0, 0, ...   \n",
       "11370  [0, 0, 0, 0, 0, 0, 0, 0, 0, 0, 0, 0, 0, 0, 0, ...   \n",
       "\n",
       "                                                    mol  \\\n",
       "0      <rdkit.Chem.rdchem.Mol object at 0x7fcae57b2c70>   \n",
       "1      <rdkit.Chem.rdchem.Mol object at 0x7fcae57b2ce0>   \n",
       "2      <rdkit.Chem.rdchem.Mol object at 0x7fcae57b2d50>   \n",
       "3      <rdkit.Chem.rdchem.Mol object at 0x7fcae57b2dc0>   \n",
       "4      <rdkit.Chem.rdchem.Mol object at 0x7fcae57b2ea0>   \n",
       "...                                                 ...   \n",
       "11366  <rdkit.Chem.rdchem.Mol object at 0x7fcae55c6d50>   \n",
       "11367  <rdkit.Chem.rdchem.Mol object at 0x7fcae55c6dc0>   \n",
       "11368  <rdkit.Chem.rdchem.Mol object at 0x7fcae55c6e30>   \n",
       "11369  <rdkit.Chem.rdchem.Mol object at 0x7fcae55c6ea0>   \n",
       "11370  <rdkit.Chem.rdchem.Mol object at 0x7fcae55c6f10>   \n",
       "\n",
       "                                     mordred_descriptors  \n",
       "0      [0, 19.043901486964472, 2.4390756951645276, 4....  \n",
       "1      [0, 14.336570447189814, 2.357540294271959, 4.5...  \n",
       "2      [2, 49.63881254532599, 2.4853700691676073, 4.9...  \n",
       "3      [2, 26.837123397471558, 2.629282254806511, 5.0...  \n",
       "4      [2, 36.178964768187164, 2.3693797764670927, 4....  \n",
       "...                                                  ...  \n",
       "11366  [0, 33.30217331070357, 2.441850884126477, 4.88...  \n",
       "11367  [0, 18.562493888361274, 2.3459549226145686, 4....  \n",
       "11368  [0, 20.038834639001276, 2.379951836463614, 4.7...  \n",
       "11369  [0, 19.276998124333396, 2.3728576377767836, 4....  \n",
       "11370  [0, 20.240365838100985, 2.35758452466744, 4.71...  \n",
       "\n",
       "[11371 rows x 7 columns]"
      ]
     },
     "execution_count": 31,
     "metadata": {},
     "output_type": "execute_result"
    }
   ],
   "source": [
    "df = pd.read_csv(\"data/DILIst_features_v2.csv.gz\", compression=\"gzip\")\n",
    "df"
   ]
  },
  {
   "cell_type": "code",
   "execution_count": null,
   "id": "49ec64da-64fb-4935-bc43-e2285c57bb38",
   "metadata": {},
   "outputs": [],
   "source": []
  }
 ],
 "metadata": {
  "kernelspec": {
   "display_name": "my-rdkit-env",
   "language": "python",
   "name": "my-rdkit-env"
  },
  "language_info": {
   "codemirror_mode": {
    "name": "ipython",
    "version": 3
   },
   "file_extension": ".py",
   "mimetype": "text/x-python",
   "name": "python",
   "nbconvert_exporter": "python",
   "pygments_lexer": "ipython3",
   "version": "3.10.12"
  }
 },
 "nbformat": 4,
 "nbformat_minor": 5
}
